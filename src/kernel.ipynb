{
 "cells": [
  {
   "cell_type": "markdown",
   "metadata": {
    "collapsed": false
   },
   "source": [
    "# 1) 必要なモジュールをロード"
   ]
  },
  {
   "cell_type": "code",
   "execution_count": 1,
   "metadata": {
    "collapsed": false
   },
   "outputs": [
    {
     "name": "stderr",
     "output_type": "stream",
     "text": [
      ":0: FutureWarning: IPython widgets are experimental and may change in the future.\n"
     ]
    }
   ],
   "source": [
    "#load module\n",
    "import csv\n",
    "import pandas as pd\n",
    "%matplotlib inline\n",
    "import matplotlib.pylab as plt\n",
    "import seaborn as sns\n",
    "import numpy as np\n",
    "sns.set_style(\"whitegrid\")"
   ]
  },
  {
   "cell_type": "code",
   "execution_count": 2,
   "metadata": {
    "collapsed": true
   },
   "outputs": [],
   "source": [
    "DEBUG = True\n",
    "def PRINT(*arg):\n",
    "    if DEBUG:\n",
    "        print(*arg)"
   ]
  },
  {
   "cell_type": "markdown",
   "metadata": {},
   "source": [
    "# 2) データ処理"
   ]
  },
  {
   "cell_type": "code",
   "execution_count": 3,
   "metadata": {
    "collapsed": true
   },
   "outputs": [],
   "source": [
    "SRC_TRAIN = '../data/train.csv'\n",
    "SRC_TEST = '../data/test.csv'\n",
    "df_train = pd.read_csv(SRC_TRAIN)\n",
    "df_test  = pd.read_csv(SRC_TEST)"
   ]
  },
  {
   "cell_type": "markdown",
   "metadata": {},
   "source": [
    "## 2.1) データ確認"
   ]
  },
  {
   "cell_type": "code",
   "execution_count": 4,
   "metadata": {
    "collapsed": false
   },
   "outputs": [
    {
     "data": {
      "text/html": [
       "<div>\n",
       "<table border=\"1\" class=\"dataframe\">\n",
       "  <thead>\n",
       "    <tr style=\"text-align: right;\">\n",
       "      <th></th>\n",
       "      <th>PassengerId</th>\n",
       "      <th>Survived</th>\n",
       "      <th>Pclass</th>\n",
       "      <th>Name</th>\n",
       "      <th>Sex</th>\n",
       "      <th>Age</th>\n",
       "      <th>SibSp</th>\n",
       "      <th>Parch</th>\n",
       "      <th>Ticket</th>\n",
       "      <th>Fare</th>\n",
       "      <th>Cabin</th>\n",
       "      <th>Embarked</th>\n",
       "    </tr>\n",
       "  </thead>\n",
       "  <tbody>\n",
       "    <tr>\n",
       "      <th>0</th>\n",
       "      <td>1</td>\n",
       "      <td>0</td>\n",
       "      <td>3</td>\n",
       "      <td>Braund, Mr. Owen Harris</td>\n",
       "      <td>male</td>\n",
       "      <td>22</td>\n",
       "      <td>1</td>\n",
       "      <td>0</td>\n",
       "      <td>A/5 21171</td>\n",
       "      <td>7.2500</td>\n",
       "      <td>NaN</td>\n",
       "      <td>S</td>\n",
       "    </tr>\n",
       "    <tr>\n",
       "      <th>1</th>\n",
       "      <td>2</td>\n",
       "      <td>1</td>\n",
       "      <td>1</td>\n",
       "      <td>Cumings, Mrs. John Bradley (Florence Briggs Th...</td>\n",
       "      <td>female</td>\n",
       "      <td>38</td>\n",
       "      <td>1</td>\n",
       "      <td>0</td>\n",
       "      <td>PC 17599</td>\n",
       "      <td>71.2833</td>\n",
       "      <td>C85</td>\n",
       "      <td>C</td>\n",
       "    </tr>\n",
       "    <tr>\n",
       "      <th>2</th>\n",
       "      <td>3</td>\n",
       "      <td>1</td>\n",
       "      <td>3</td>\n",
       "      <td>Heikkinen, Miss. Laina</td>\n",
       "      <td>female</td>\n",
       "      <td>26</td>\n",
       "      <td>0</td>\n",
       "      <td>0</td>\n",
       "      <td>STON/O2. 3101282</td>\n",
       "      <td>7.9250</td>\n",
       "      <td>NaN</td>\n",
       "      <td>S</td>\n",
       "    </tr>\n",
       "    <tr>\n",
       "      <th>3</th>\n",
       "      <td>4</td>\n",
       "      <td>1</td>\n",
       "      <td>1</td>\n",
       "      <td>Futrelle, Mrs. Jacques Heath (Lily May Peel)</td>\n",
       "      <td>female</td>\n",
       "      <td>35</td>\n",
       "      <td>1</td>\n",
       "      <td>0</td>\n",
       "      <td>113803</td>\n",
       "      <td>53.1000</td>\n",
       "      <td>C123</td>\n",
       "      <td>S</td>\n",
       "    </tr>\n",
       "    <tr>\n",
       "      <th>4</th>\n",
       "      <td>5</td>\n",
       "      <td>0</td>\n",
       "      <td>3</td>\n",
       "      <td>Allen, Mr. William Henry</td>\n",
       "      <td>male</td>\n",
       "      <td>35</td>\n",
       "      <td>0</td>\n",
       "      <td>0</td>\n",
       "      <td>373450</td>\n",
       "      <td>8.0500</td>\n",
       "      <td>NaN</td>\n",
       "      <td>S</td>\n",
       "    </tr>\n",
       "    <tr>\n",
       "      <th>5</th>\n",
       "      <td>6</td>\n",
       "      <td>0</td>\n",
       "      <td>3</td>\n",
       "      <td>Moran, Mr. James</td>\n",
       "      <td>male</td>\n",
       "      <td>NaN</td>\n",
       "      <td>0</td>\n",
       "      <td>0</td>\n",
       "      <td>330877</td>\n",
       "      <td>8.4583</td>\n",
       "      <td>NaN</td>\n",
       "      <td>Q</td>\n",
       "    </tr>\n",
       "    <tr>\n",
       "      <th>6</th>\n",
       "      <td>7</td>\n",
       "      <td>0</td>\n",
       "      <td>1</td>\n",
       "      <td>McCarthy, Mr. Timothy J</td>\n",
       "      <td>male</td>\n",
       "      <td>54</td>\n",
       "      <td>0</td>\n",
       "      <td>0</td>\n",
       "      <td>17463</td>\n",
       "      <td>51.8625</td>\n",
       "      <td>E46</td>\n",
       "      <td>S</td>\n",
       "    </tr>\n",
       "    <tr>\n",
       "      <th>7</th>\n",
       "      <td>8</td>\n",
       "      <td>0</td>\n",
       "      <td>3</td>\n",
       "      <td>Palsson, Master. Gosta Leonard</td>\n",
       "      <td>male</td>\n",
       "      <td>2</td>\n",
       "      <td>3</td>\n",
       "      <td>1</td>\n",
       "      <td>349909</td>\n",
       "      <td>21.0750</td>\n",
       "      <td>NaN</td>\n",
       "      <td>S</td>\n",
       "    </tr>\n",
       "  </tbody>\n",
       "</table>\n",
       "</div>"
      ],
      "text/plain": [
       "   PassengerId  Survived  Pclass  \\\n",
       "0            1         0       3   \n",
       "1            2         1       1   \n",
       "2            3         1       3   \n",
       "3            4         1       1   \n",
       "4            5         0       3   \n",
       "5            6         0       3   \n",
       "6            7         0       1   \n",
       "7            8         0       3   \n",
       "\n",
       "                                                Name     Sex  Age  SibSp  \\\n",
       "0                            Braund, Mr. Owen Harris    male   22      1   \n",
       "1  Cumings, Mrs. John Bradley (Florence Briggs Th...  female   38      1   \n",
       "2                             Heikkinen, Miss. Laina  female   26      0   \n",
       "3       Futrelle, Mrs. Jacques Heath (Lily May Peel)  female   35      1   \n",
       "4                           Allen, Mr. William Henry    male   35      0   \n",
       "5                                   Moran, Mr. James    male  NaN      0   \n",
       "6                            McCarthy, Mr. Timothy J    male   54      0   \n",
       "7                     Palsson, Master. Gosta Leonard    male    2      3   \n",
       "\n",
       "   Parch            Ticket     Fare Cabin Embarked  \n",
       "0      0         A/5 21171   7.2500   NaN        S  \n",
       "1      0          PC 17599  71.2833   C85        C  \n",
       "2      0  STON/O2. 3101282   7.9250   NaN        S  \n",
       "3      0            113803  53.1000  C123        S  \n",
       "4      0            373450   8.0500   NaN        S  \n",
       "5      0            330877   8.4583   NaN        Q  \n",
       "6      0             17463  51.8625   E46        S  \n",
       "7      1            349909  21.0750   NaN        S  "
      ]
     },
     "execution_count": 4,
     "metadata": {},
     "output_type": "execute_result"
    }
   ],
   "source": [
    "df_train.head(8)"
   ]
  },
  {
   "cell_type": "markdown",
   "metadata": {},
   "source": [
    "データ説明\n",
    "\n",
    "|カラム|説明|\n",
    "|:--|:--|\n",
    "|PassengerID|乗客番号|\n",
    "|Survived|1: 生存, 0: 死亡|\n",
    "|Pclass|乗客階級 （1,2,3の順で上級）|\n",
    "|Name|名前|\n",
    "|Sex|性別|\n",
    "|Age|年齢|\n",
    "|SibSp|兄弟/配偶者人数|\n",
    "|Parch|両親/子供人数|\n",
    "|Ticket|チケット番号|\n",
    "|Fare|乗船料金|\n",
    "|Cabin|部屋番号|\n",
    "|Embarked|乗船した港　Cherbourg、Queenstown、Southampton|"
   ]
  },
  {
   "cell_type": "code",
   "execution_count": 5,
   "metadata": {
    "collapsed": false
   },
   "outputs": [
    {
     "data": {
      "text/plain": [
       "Index(['PassengerId', 'Survived', 'Pclass', 'Name', 'Sex', 'Age', 'SibSp',\n",
       "       'Parch', 'Ticket', 'Fare', 'Cabin', 'Embarked'],\n",
       "      dtype='object')"
      ]
     },
     "execution_count": 5,
     "metadata": {},
     "output_type": "execute_result"
    }
   ],
   "source": [
    "df_train.columns"
   ]
  },
  {
   "cell_type": "code",
   "execution_count": 6,
   "metadata": {
    "collapsed": false
   },
   "outputs": [
    {
     "name": "stdout",
     "output_type": "stream",
     "text": [
      "<class 'pandas.core.frame.DataFrame'>\n",
      "Int64Index: 891 entries, 0 to 890\n",
      "Data columns (total 12 columns):\n",
      "PassengerId    891 non-null int64\n",
      "Survived       891 non-null int64\n",
      "Pclass         891 non-null int64\n",
      "Name           891 non-null object\n",
      "Sex            891 non-null object\n",
      "Age            714 non-null float64\n",
      "SibSp          891 non-null int64\n",
      "Parch          891 non-null int64\n",
      "Ticket         891 non-null object\n",
      "Fare           891 non-null float64\n",
      "Cabin          204 non-null object\n",
      "Embarked       889 non-null object\n",
      "dtypes: float64(2), int64(5), object(5)\n",
      "memory usage: 90.5+ KB\n"
     ]
    }
   ],
   "source": [
    "df_train.info()"
   ]
  },
  {
   "cell_type": "markdown",
   "metadata": {},
   "source": [
    "## 2.2) データ整形"
   ]
  },
  {
   "cell_type": "code",
   "execution_count": 7,
   "metadata": {
    "collapsed": false
   },
   "outputs": [
    {
     "name": "stderr",
     "output_type": "stream",
     "text": [
      "C:\\Users\\moto-PC\\Anaconda3230\\lib\\site-packages\\pandas\\core\\common.py:516: FutureWarning: elementwise comparison failed; returning scalar instead, but in the future will perform elementwise comparison\n",
      "  mask = arr == x\n"
     ]
    }
   ],
   "source": [
    "#男女を01で表現\n",
    "df_train = df_train.replace(\"male\",0).replace(\"female\",1)\n",
    "df_test = df_test.replace(\"male\",0).replace(\"female\",1)"
   ]
  },
  {
   "cell_type": "markdown",
   "metadata": {},
   "source": [
    "##2.3) データ傾向確認"
   ]
  },
  {
   "cell_type": "code",
   "execution_count": 8,
   "metadata": {
    "collapsed": false,
    "scrolled": true
   },
   "outputs": [
    {
     "data": {
      "text/html": [
       "<div>\n",
       "<table border=\"1\" class=\"dataframe\">\n",
       "  <thead>\n",
       "    <tr style=\"text-align: right;\">\n",
       "      <th></th>\n",
       "      <th>PassengerId</th>\n",
       "      <th>Survived</th>\n",
       "      <th>Pclass</th>\n",
       "      <th>Sex</th>\n",
       "      <th>Age</th>\n",
       "      <th>SibSp</th>\n",
       "      <th>Parch</th>\n",
       "      <th>Fare</th>\n",
       "    </tr>\n",
       "  </thead>\n",
       "  <tbody>\n",
       "    <tr>\n",
       "      <th>count</th>\n",
       "      <td>891.000000</td>\n",
       "      <td>891.000000</td>\n",
       "      <td>891.000000</td>\n",
       "      <td>891.000000</td>\n",
       "      <td>714.000000</td>\n",
       "      <td>891.000000</td>\n",
       "      <td>891.000000</td>\n",
       "      <td>891.000000</td>\n",
       "    </tr>\n",
       "    <tr>\n",
       "      <th>mean</th>\n",
       "      <td>446.000000</td>\n",
       "      <td>0.383838</td>\n",
       "      <td>2.308642</td>\n",
       "      <td>0.352413</td>\n",
       "      <td>29.699118</td>\n",
       "      <td>0.523008</td>\n",
       "      <td>0.381594</td>\n",
       "      <td>32.204208</td>\n",
       "    </tr>\n",
       "    <tr>\n",
       "      <th>std</th>\n",
       "      <td>257.353842</td>\n",
       "      <td>0.486592</td>\n",
       "      <td>0.836071</td>\n",
       "      <td>0.477990</td>\n",
       "      <td>14.526497</td>\n",
       "      <td>1.102743</td>\n",
       "      <td>0.806057</td>\n",
       "      <td>49.693429</td>\n",
       "    </tr>\n",
       "    <tr>\n",
       "      <th>min</th>\n",
       "      <td>1.000000</td>\n",
       "      <td>0.000000</td>\n",
       "      <td>1.000000</td>\n",
       "      <td>0.000000</td>\n",
       "      <td>0.420000</td>\n",
       "      <td>0.000000</td>\n",
       "      <td>0.000000</td>\n",
       "      <td>0.000000</td>\n",
       "    </tr>\n",
       "    <tr>\n",
       "      <th>25%</th>\n",
       "      <td>223.500000</td>\n",
       "      <td>0.000000</td>\n",
       "      <td>2.000000</td>\n",
       "      <td>0.000000</td>\n",
       "      <td>20.125000</td>\n",
       "      <td>0.000000</td>\n",
       "      <td>0.000000</td>\n",
       "      <td>7.910400</td>\n",
       "    </tr>\n",
       "    <tr>\n",
       "      <th>50%</th>\n",
       "      <td>446.000000</td>\n",
       "      <td>0.000000</td>\n",
       "      <td>3.000000</td>\n",
       "      <td>0.000000</td>\n",
       "      <td>28.000000</td>\n",
       "      <td>0.000000</td>\n",
       "      <td>0.000000</td>\n",
       "      <td>14.454200</td>\n",
       "    </tr>\n",
       "    <tr>\n",
       "      <th>75%</th>\n",
       "      <td>668.500000</td>\n",
       "      <td>1.000000</td>\n",
       "      <td>3.000000</td>\n",
       "      <td>1.000000</td>\n",
       "      <td>38.000000</td>\n",
       "      <td>1.000000</td>\n",
       "      <td>0.000000</td>\n",
       "      <td>31.000000</td>\n",
       "    </tr>\n",
       "    <tr>\n",
       "      <th>max</th>\n",
       "      <td>891.000000</td>\n",
       "      <td>1.000000</td>\n",
       "      <td>3.000000</td>\n",
       "      <td>1.000000</td>\n",
       "      <td>80.000000</td>\n",
       "      <td>8.000000</td>\n",
       "      <td>6.000000</td>\n",
       "      <td>512.329200</td>\n",
       "    </tr>\n",
       "  </tbody>\n",
       "</table>\n",
       "</div>"
      ],
      "text/plain": [
       "       PassengerId    Survived      Pclass         Sex         Age  \\\n",
       "count   891.000000  891.000000  891.000000  891.000000  714.000000   \n",
       "mean    446.000000    0.383838    2.308642    0.352413   29.699118   \n",
       "std     257.353842    0.486592    0.836071    0.477990   14.526497   \n",
       "min       1.000000    0.000000    1.000000    0.000000    0.420000   \n",
       "25%     223.500000    0.000000    2.000000    0.000000   20.125000   \n",
       "50%     446.000000    0.000000    3.000000    0.000000   28.000000   \n",
       "75%     668.500000    1.000000    3.000000    1.000000   38.000000   \n",
       "max     891.000000    1.000000    3.000000    1.000000   80.000000   \n",
       "\n",
       "            SibSp       Parch        Fare  \n",
       "count  891.000000  891.000000  891.000000  \n",
       "mean     0.523008    0.381594   32.204208  \n",
       "std      1.102743    0.806057   49.693429  \n",
       "min      0.000000    0.000000    0.000000  \n",
       "25%      0.000000    0.000000    7.910400  \n",
       "50%      0.000000    0.000000   14.454200  \n",
       "75%      1.000000    0.000000   31.000000  \n",
       "max      8.000000    6.000000  512.329200  "
      ]
     },
     "execution_count": 8,
     "metadata": {},
     "output_type": "execute_result"
    }
   ],
   "source": [
    "df_train.describe()"
   ]
  },
  {
   "cell_type": "code",
   "execution_count": 9,
   "metadata": {
    "collapsed": false
   },
   "outputs": [
    {
     "data": {
      "text/plain": [
       "PassengerId      0\n",
       "Survived         0\n",
       "Pclass           0\n",
       "Name             0\n",
       "Sex              0\n",
       "Age            177\n",
       "SibSp            0\n",
       "Parch            0\n",
       "Ticket           0\n",
       "Fare             0\n",
       "Cabin          687\n",
       "Embarked         2\n",
       "dtype: int64"
      ]
     },
     "execution_count": 9,
     "metadata": {},
     "output_type": "execute_result"
    }
   ],
   "source": [
    "df_train.isnull().sum()"
   ]
  },
  {
   "cell_type": "markdown",
   "metadata": {},
   "source": [
    "・Cabinがかなり欠損している（除外対象）\n",
    "\n",
    "・Ageは部分的に欠損していることが分かる"
   ]
  },
  {
   "cell_type": "markdown",
   "metadata": {},
   "source": [
    "##2.4 ) 欠損データ処理"
   ]
  },
  {
   "cell_type": "markdown",
   "metadata": {},
   "source": [
    "学習に不要なデータを排除"
   ]
  },
  {
   "cell_type": "code",
   "execution_count": 10,
   "metadata": {
    "collapsed": true
   },
   "outputs": [],
   "source": [
    "df_train_dropna = df_train.dropna()\n",
    "df_train_dropna = df_train_dropna.drop('Cabin', axis = 1)\n",
    "df_train_dropna = df_train_dropna.drop('PassengerId', axis = 1)"
   ]
  },
  {
   "cell_type": "markdown",
   "metadata": {},
   "source": [
    "##2.5) データ相関分析"
   ]
  },
  {
   "cell_type": "code",
   "execution_count": 11,
   "metadata": {
    "collapsed": false
   },
   "outputs": [
    {
     "data": {
      "text/html": [
       "<div>\n",
       "<table border=\"1\" class=\"dataframe\">\n",
       "  <thead>\n",
       "    <tr style=\"text-align: right;\">\n",
       "      <th></th>\n",
       "      <th>Survived</th>\n",
       "      <th>Pclass</th>\n",
       "      <th>Sex</th>\n",
       "      <th>Age</th>\n",
       "      <th>SibSp</th>\n",
       "      <th>Parch</th>\n",
       "      <th>Fare</th>\n",
       "    </tr>\n",
       "  </thead>\n",
       "  <tbody>\n",
       "    <tr>\n",
       "      <th>Survived</th>\n",
       "      <td>1.000000</td>\n",
       "      <td>-0.034542</td>\n",
       "      <td>0.532418</td>\n",
       "      <td>-0.254085</td>\n",
       "      <td>0.106346</td>\n",
       "      <td>0.023582</td>\n",
       "      <td>0.134241</td>\n",
       "    </tr>\n",
       "    <tr>\n",
       "      <th>Pclass</th>\n",
       "      <td>-0.034542</td>\n",
       "      <td>1.000000</td>\n",
       "      <td>0.046181</td>\n",
       "      <td>-0.306514</td>\n",
       "      <td>-0.103592</td>\n",
       "      <td>0.047496</td>\n",
       "      <td>-0.315235</td>\n",
       "    </tr>\n",
       "    <tr>\n",
       "      <th>Sex</th>\n",
       "      <td>0.532418</td>\n",
       "      <td>0.046181</td>\n",
       "      <td>1.000000</td>\n",
       "      <td>-0.184969</td>\n",
       "      <td>0.104291</td>\n",
       "      <td>0.089581</td>\n",
       "      <td>0.130433</td>\n",
       "    </tr>\n",
       "    <tr>\n",
       "      <th>Age</th>\n",
       "      <td>-0.254085</td>\n",
       "      <td>-0.306514</td>\n",
       "      <td>-0.184969</td>\n",
       "      <td>1.000000</td>\n",
       "      <td>-0.156162</td>\n",
       "      <td>-0.271271</td>\n",
       "      <td>-0.092424</td>\n",
       "    </tr>\n",
       "    <tr>\n",
       "      <th>SibSp</th>\n",
       "      <td>0.106346</td>\n",
       "      <td>-0.103592</td>\n",
       "      <td>0.104291</td>\n",
       "      <td>-0.156162</td>\n",
       "      <td>1.000000</td>\n",
       "      <td>0.255346</td>\n",
       "      <td>0.286433</td>\n",
       "    </tr>\n",
       "    <tr>\n",
       "      <th>Parch</th>\n",
       "      <td>0.023582</td>\n",
       "      <td>0.047496</td>\n",
       "      <td>0.089581</td>\n",
       "      <td>-0.271271</td>\n",
       "      <td>0.255346</td>\n",
       "      <td>1.000000</td>\n",
       "      <td>0.389740</td>\n",
       "    </tr>\n",
       "    <tr>\n",
       "      <th>Fare</th>\n",
       "      <td>0.134241</td>\n",
       "      <td>-0.315235</td>\n",
       "      <td>0.130433</td>\n",
       "      <td>-0.092424</td>\n",
       "      <td>0.286433</td>\n",
       "      <td>0.389740</td>\n",
       "      <td>1.000000</td>\n",
       "    </tr>\n",
       "  </tbody>\n",
       "</table>\n",
       "</div>"
      ],
      "text/plain": [
       "          Survived    Pclass       Sex       Age     SibSp     Parch      Fare\n",
       "Survived  1.000000 -0.034542  0.532418 -0.254085  0.106346  0.023582  0.134241\n",
       "Pclass   -0.034542  1.000000  0.046181 -0.306514 -0.103592  0.047496 -0.315235\n",
       "Sex       0.532418  0.046181  1.000000 -0.184969  0.104291  0.089581  0.130433\n",
       "Age      -0.254085 -0.306514 -0.184969  1.000000 -0.156162 -0.271271 -0.092424\n",
       "SibSp     0.106346 -0.103592  0.104291 -0.156162  1.000000  0.255346  0.286433\n",
       "Parch     0.023582  0.047496  0.089581 -0.271271  0.255346  1.000000  0.389740\n",
       "Fare      0.134241 -0.315235  0.130433 -0.092424  0.286433  0.389740  1.000000"
      ]
     },
     "execution_count": 11,
     "metadata": {},
     "output_type": "execute_result"
    }
   ],
   "source": [
    "df_train_dropna.corr()"
   ]
  },
  {
   "cell_type": "markdown",
   "metadata": {},
   "source": [
    "・Survivedは性別(Sex)、年齢（Age）、兄弟/配偶者人数(SibSp)と相関が高い\n",
    "\n",
    "・Ageは乗客階級（Pclass）, 両親/子供人数（Parch）と相関が高い"
   ]
  },
  {
   "cell_type": "markdown",
   "metadata": {},
   "source": [
    "##2.6) 補完処理"
   ]
  },
  {
   "cell_type": "markdown",
   "metadata": {},
   "source": [
    "・Ageは部分欠損を起こしてるため、補完処理を実施"
   ]
  },
  {
   "cell_type": "markdown",
   "metadata": {},
   "source": [
    "###2.6.1) Pclass毎の年齢平均値で補完"
   ]
  },
  {
   "cell_type": "code",
   "execution_count": 12,
   "metadata": {
    "collapsed": false
   },
   "outputs": [
    {
     "name": "stderr",
     "output_type": "stream",
     "text": [
      "C:\\Users\\moto-PC\\Anaconda3230\\lib\\site-packages\\matplotlib\\collections.py:590: FutureWarning: elementwise comparison failed; returning scalar instead, but in the future will perform elementwise comparison\n",
      "  if self._edgecolors == str('face'):\n"
     ]
    },
    {
     "data": {
      "image/png": "[encoded data removed]",
      "text/plain": [
       "<matplotlib.figure.Figure at 0x8d5c898>"
      ]
     },
     "metadata": {},
     "output_type": "display_data"
    },
    {
     "name": "stdout",
     "output_type": "stream",
     "text": [
      "if Pclass == 1, Average Age ==  38.233440860215055\n",
      "if Pclass == 2, Average Age ==  29.87763005780347\n",
      "if Pclass == 3, Average Age ==  25.14061971830986\n"
     ]
    },
    {
     "data": {
      "image/png": "[encoded data removed]",
      "text/plain": [
       "<matplotlib.figure.Figure at 0x9220080>"
      ]
     },
     "metadata": {},
     "output_type": "display_data"
    }
   ],
   "source": [
    "#Age処理のための検討 1　(乗客階級)\n",
    "ap = pd.concat([df_train['Age'],df_train['Pclass']],axis=1)\n",
    "ap = ap.dropna()\n",
    "ap.plot(x='Age',y='Pclass',kind='scatter')\n",
    "plt.xlabel('Age')\n",
    "plt.ylabel('Pclass')\n",
    "plt.show()\n",
    "\n",
    "age_mean_p  = ap['Age'].mean()\n",
    "age_mean_p1 = ap[ap['Pclass'] == 1]['Age'].mean()\n",
    "age_mean_p2 = ap[ap['Pclass'] == 2]['Age'].mean()\n",
    "age_mean_p3 = ap[ap['Pclass'] == 3]['Age'].mean()\n",
    "\n",
    "PRINT('if Pclass == 1, Average Age == ', age_mean_p1)\n",
    "PRINT('if Pclass == 2, Average Age == ', age_mean_p2)\n",
    "PRINT('if Pclass == 3, Average Age == ', age_mean_p3)\n",
    "\n",
    "ap[ap['Pclass'] == 1]['Age'].hist(alpha=.3)\n",
    "ap[ap['Pclass'] == 2]['Age'].hist(alpha=.3)\n",
    "ap[ap['Pclass'] == 3]['Age'].hist(alpha=.3)\n",
    "plt.xlabel(\"Age\")\n",
    "plt.ylabel(\"Freq\")\n",
    "plt.show()"
   ]
  },
  {
   "cell_type": "markdown",
   "metadata": {},
   "source": [
    "年齢と乗客階級の間に相関が強くは無いが一旦はこれで補完は可能"
   ]
  },
  {
   "cell_type": "code",
   "execution_count": 13,
   "metadata": {
    "collapsed": false
   },
   "outputs": [],
   "source": [
    "age_1 = []\n",
    "for row in range(0,len(df_train)):\n",
    "    if df_train['Age'][row] > 0:\n",
    "        age_1.append(df_train['Age'][row])\n",
    "        pass\n",
    "    else:\n",
    "        if df_train['Pclass'][row] == 1:\n",
    "            age_1.append(age_mean_p1)\n",
    "        if df_train['Pclass'][row] == 2:\n",
    "            age_1.append(age_mean_p2)\n",
    "        if df_train['Pclass'][row] == 3:\n",
    "            age_1.append(age_mean_p3)\n",
    "df_train['Age_1'] = age_1\n",
    "\n",
    "age_1 = []\n",
    "for row in range(0,len(df_test)):\n",
    "    if df_test['Age'][row] > 0:\n",
    "        age_1.append(df_test['Age'][row])\n",
    "        pass\n",
    "    else:\n",
    "        if df_test['Pclass'][row] == 1:\n",
    "            age_1.append(age_mean_p1)\n",
    "        if df_test['Pclass'][row] == 2:\n",
    "            age_1.append(age_mean_p2)\n",
    "        if df_test['Pclass'][row] == 3:\n",
    "            age_1.append(age_mean_p3)\n",
    "df_test['Age_1'] = age_1"
   ]
  },
  {
   "cell_type": "markdown",
   "metadata": {},
   "source": [
    "###2.6.2) Nameの敬称毎の年齢平均値で補完"
   ]
  },
  {
   "cell_type": "code",
   "execution_count": 14,
   "metadata": {
    "collapsed": false
   },
   "outputs": [],
   "source": [
    "#Age処理のための検討 2　(敬称)\n",
    "honorific_arr = []\n",
    "\n",
    "for row in range(0,len(df_train)):\n",
    "    if df_train['Name'][row].lower().find('mr.') > -1 or df_train['Name'][row].lower().find('mr ') > -1:\n",
    "        honorific_arr.append(0)\n",
    "        pass\n",
    "    elif df_train['Name'][row].lower().find('mrs.') > -1 or df_train['Name'][row].lower().find('mrs ') > -1:\n",
    "        honorific_arr.append(1)\n",
    "        pass\n",
    "    elif df_train['Name'][row].lower().find('miss.') > -1 or df_train['Name'][row].lower().find('miss ') > -1:\n",
    "        honorific_arr.append(2)\n",
    "        pass\n",
    "    elif df_train['Name'][row].lower().find('master.') > -1 or df_train['Name'][row].lower().find('master ') > -1:\n",
    "        honorific_arr.append(3)\n",
    "        pass\n",
    "    elif df_train['Name'][row].lower().find('ms.') > -1 or df_train['Name'][row].lower().find('ms ') > -1:\n",
    "        honorific_arr.append(4)\n",
    "        pass\n",
    "    elif df_train['Name'][row].lower().find('dr.') > -1 or df_train['Name'][row].lower().find('dr ') > -1:\n",
    "        honorific_arr.append(5)\n",
    "        pass\n",
    "    else:\n",
    "        honorific_arr.append(6)\n",
    "df_train['Honorific'] = honorific_arr\n",
    "\n",
    "honorific_arr = []\n",
    "for row in range(0,len(df_test)):\n",
    "    if df_test['Name'][row].lower().find('mr.') > -1 or df_test['Name'][row].lower().find('mr ') > -1:\n",
    "        honorific_arr.append(0)\n",
    "        pass\n",
    "    elif df_test['Name'][row].lower().find('mrs.') > -1 or df_test['Name'][row].lower().find('mrs ') > -1:\n",
    "        honorific_arr.append(1)\n",
    "        pass\n",
    "    elif df_test['Name'][row].lower().find('miss.') > -1 or df_test['Name'][row].lower().find('miss ') > -1:\n",
    "        honorific_arr.append(2)\n",
    "        pass\n",
    "    elif df_test['Name'][row].lower().find('master.') > -1 or df_test['Name'][row].lower().find('master ') > -1:\n",
    "        honorific_arr.append(3)\n",
    "        pass\n",
    "    elif df_test['Name'][row].lower().find('ms.') > -1 or df_test['Name'][row].lower().find('ms ') > -1:\n",
    "        honorific_arr.append(4)\n",
    "        pass\n",
    "    elif df_test['Name'][row].lower().find('dr.') > -1 or df_test['Name'][row].lower().find('dr ') > -1:\n",
    "        honorific_arr.append(5)\n",
    "        pass\n",
    "    else:\n",
    "        honorific_arr.append(6)\n",
    "df_test['Honorific'] = honorific_arr"
   ]
  },
  {
   "cell_type": "code",
   "execution_count": 15,
   "metadata": {
    "collapsed": false
   },
   "outputs": [
    {
     "name": "stderr",
     "output_type": "stream",
     "text": [
      "C:\\Users\\moto-PC\\Anaconda3230\\lib\\site-packages\\matplotlib\\collections.py:590: FutureWarning: elementwise comparison failed; returning scalar instead, but in the future will perform elementwise comparison\n",
      "  if self._edgecolors == str('face'):\n"
     ]
    },
    {
     "data": {
      "image/png": "[encoded data removed]",
      "text/plain": [
       "<matplotlib.figure.Figure at 0x8ce6160>"
      ]
     },
     "metadata": {},
     "output_type": "display_data"
    }
   ],
   "source": [
    "ah = pd.concat([df_train[\"Age\"],df_train[\"Honorific\"]],axis=1)\n",
    "ah = ah.dropna()\n",
    "ah.plot(x=\"Age\",y=\"Honorific\",kind=\"scatter\")\n",
    "plt.title(\"Honorific 0:mr, 1:mrs, 2:miss, 3:master, 4:ms, 5:dr, 6:else\")\n",
    "plt.xlabel(\"Age\")\n",
    "plt.ylabel(\"Honorific\")\n",
    "plt.show()\n",
    "\n",
    "age_mean_h0 = ah[ah['Honorific'] == 0]['Age'].mean()\n",
    "age_mean_h1 = ah[ah['Honorific'] == 1]['Age'].mean()\n",
    "age_mean_h2 = ah[ah['Honorific'] == 2]['Age'].mean()\n",
    "age_mean_h3 = ah[ah['Honorific'] == 3]['Age'].mean()\n",
    "age_mean_h4 = ah[ah['Honorific'] == 4]['Age'].mean()\n",
    "age_mean_h5 = ah[ah['Honorific'] == 5]['Age'].mean()\n",
    "age_mean_h6 = ah[ah['Honorific'] == 6]['Age'].mean()\n",
    "age_mean_h = ah['Age'].mean()\n"
   ]
  },
  {
   "cell_type": "markdown",
   "metadata": {},
   "source": [
    "傾向の見える敬称　0:mr, 1:mrs, 2:miss, 3:master\n",
    "\n",
    "それ以外は、全体平均で代替"
   ]
  },
  {
   "cell_type": "code",
   "execution_count": 16,
   "metadata": {
    "collapsed": false
   },
   "outputs": [],
   "source": [
    "age_2 = []\n",
    "for row in range(0,len(df_train)):\n",
    "    if df_train['Age'][row] > 0:\n",
    "        age_2.append(df_train['Age'][row])\n",
    "        pass\n",
    "    else:\n",
    "        if df_train['Honorific'][row] == 0:\n",
    "            age_2.append(age_mean_h0)\n",
    "        elif df_train['Honorific'][row] == 1:\n",
    "            age_2.append(age_mean_h1)\n",
    "        elif df_train['Honorific'][row] == 2:\n",
    "            age_2.append(age_mean_h2)\n",
    "        elif df_train['Honorific'][row] == 3:\n",
    "            age_2.append(age_mean_h3)\n",
    "        elif df_train['Honorific'][row] == 4:\n",
    "            age_2.append(age_mean_h4)\n",
    "        else:\n",
    "            age_2.append(age_mean_h)\n",
    "df_train['Age_2'] = age_2\n",
    "\n",
    "age_2 = []\n",
    "for row in range(0,len(df_test)):\n",
    "    if df_test['Age'][row] > 0:\n",
    "        age_2.append(df_test['Age'][row])\n",
    "        pass\n",
    "    else:\n",
    "        if df_test['Honorific'][row] == 0:\n",
    "            age_2.append(age_mean_h0)\n",
    "        elif df_test['Honorific'][row] == 1:\n",
    "            age_2.append(age_mean_h1)\n",
    "        elif df_test['Honorific'][row] == 2:\n",
    "            age_2.append(age_mean_h2)\n",
    "        elif df_test['Honorific'][row] == 3:\n",
    "            age_2.append(age_mean_h3)\n",
    "        elif df_test['Honorific'][row] == 4:\n",
    "            age_2.append(age_mean_h4)\n",
    "        else:\n",
    "            age_2.append(age_mean_h)\n",
    "df_test['Age_2'] = age_2"
   ]
  },
  {
   "cell_type": "markdown",
   "metadata": {},
   "source": [
    "##2.7) 特徴量毎の生存分布確認"
   ]
  },
  {
   "cell_type": "code",
   "execution_count": 17,
   "metadata": {
    "collapsed": false
   },
   "outputs": [
    {
     "data": {
      "text/html": [
       "<div>\n",
       "<table border=\"1\" class=\"dataframe\">\n",
       "  <thead>\n",
       "    <tr style=\"text-align: right;\">\n",
       "      <th></th>\n",
       "      <th>Pclass</th>\n",
       "      <th>Survived</th>\n",
       "    </tr>\n",
       "  </thead>\n",
       "  <tbody>\n",
       "    <tr>\n",
       "      <th>0</th>\n",
       "      <td>1</td>\n",
       "      <td>0.629630</td>\n",
       "    </tr>\n",
       "    <tr>\n",
       "      <th>1</th>\n",
       "      <td>2</td>\n",
       "      <td>0.472826</td>\n",
       "    </tr>\n",
       "    <tr>\n",
       "      <th>2</th>\n",
       "      <td>3</td>\n",
       "      <td>0.242363</td>\n",
       "    </tr>\n",
       "  </tbody>\n",
       "</table>\n",
       "</div>"
      ],
      "text/plain": [
       "   Pclass  Survived\n",
       "0       1  0.629630\n",
       "1       2  0.472826\n",
       "2       3  0.242363"
      ]
     },
     "execution_count": 17,
     "metadata": {},
     "output_type": "execute_result"
    }
   ],
   "source": [
    "df_train[['Pclass', 'Survived']].groupby(['Pclass'], as_index=False).mean()"
   ]
  },
  {
   "cell_type": "code",
   "execution_count": 18,
   "metadata": {
    "collapsed": false
   },
   "outputs": [
    {
     "data": {
      "text/html": [
       "<div>\n",
       "<table border=\"1\" class=\"dataframe\">\n",
       "  <thead>\n",
       "    <tr style=\"text-align: right;\">\n",
       "      <th></th>\n",
       "      <th>Sex</th>\n",
       "      <th>Survived</th>\n",
       "    </tr>\n",
       "  </thead>\n",
       "  <tbody>\n",
       "    <tr>\n",
       "      <th>0</th>\n",
       "      <td>0</td>\n",
       "      <td>0.188908</td>\n",
       "    </tr>\n",
       "    <tr>\n",
       "      <th>1</th>\n",
       "      <td>1</td>\n",
       "      <td>0.742038</td>\n",
       "    </tr>\n",
       "  </tbody>\n",
       "</table>\n",
       "</div>"
      ],
      "text/plain": [
       "   Sex  Survived\n",
       "0    0  0.188908\n",
       "1    1  0.742038"
      ]
     },
     "execution_count": 18,
     "metadata": {},
     "output_type": "execute_result"
    }
   ],
   "source": [
    "df_train[['Sex', 'Survived']].groupby(['Sex'], as_index=False).mean()"
   ]
  },
  {
   "cell_type": "code",
   "execution_count": 19,
   "metadata": {
    "collapsed": false
   },
   "outputs": [
    {
     "data": {
      "text/html": [
       "<div>\n",
       "<table border=\"1\" class=\"dataframe\">\n",
       "  <thead>\n",
       "    <tr style=\"text-align: right;\">\n",
       "      <th></th>\n",
       "      <th>SibSp</th>\n",
       "      <th>Survived</th>\n",
       "    </tr>\n",
       "  </thead>\n",
       "  <tbody>\n",
       "    <tr>\n",
       "      <th>0</th>\n",
       "      <td>0</td>\n",
       "      <td>0.345395</td>\n",
       "    </tr>\n",
       "    <tr>\n",
       "      <th>1</th>\n",
       "      <td>1</td>\n",
       "      <td>0.535885</td>\n",
       "    </tr>\n",
       "    <tr>\n",
       "      <th>2</th>\n",
       "      <td>2</td>\n",
       "      <td>0.464286</td>\n",
       "    </tr>\n",
       "    <tr>\n",
       "      <th>3</th>\n",
       "      <td>3</td>\n",
       "      <td>0.250000</td>\n",
       "    </tr>\n",
       "    <tr>\n",
       "      <th>4</th>\n",
       "      <td>4</td>\n",
       "      <td>0.166667</td>\n",
       "    </tr>\n",
       "    <tr>\n",
       "      <th>5</th>\n",
       "      <td>5</td>\n",
       "      <td>0.000000</td>\n",
       "    </tr>\n",
       "    <tr>\n",
       "      <th>6</th>\n",
       "      <td>8</td>\n",
       "      <td>0.000000</td>\n",
       "    </tr>\n",
       "  </tbody>\n",
       "</table>\n",
       "</div>"
      ],
      "text/plain": [
       "   SibSp  Survived\n",
       "0      0  0.345395\n",
       "1      1  0.535885\n",
       "2      2  0.464286\n",
       "3      3  0.250000\n",
       "4      4  0.166667\n",
       "5      5  0.000000\n",
       "6      8  0.000000"
      ]
     },
     "execution_count": 19,
     "metadata": {},
     "output_type": "execute_result"
    }
   ],
   "source": [
    "df_train[['SibSp', 'Survived']].groupby(['SibSp'], as_index=False).mean()"
   ]
  },
  {
   "cell_type": "code",
   "execution_count": 20,
   "metadata": {
    "collapsed": false
   },
   "outputs": [
    {
     "data": {
      "text/html": [
       "<div>\n",
       "<table border=\"1\" class=\"dataframe\">\n",
       "  <thead>\n",
       "    <tr style=\"text-align: right;\">\n",
       "      <th></th>\n",
       "      <th>Parch</th>\n",
       "      <th>Survived</th>\n",
       "    </tr>\n",
       "  </thead>\n",
       "  <tbody>\n",
       "    <tr>\n",
       "      <th>0</th>\n",
       "      <td>0</td>\n",
       "      <td>0.343658</td>\n",
       "    </tr>\n",
       "    <tr>\n",
       "      <th>1</th>\n",
       "      <td>1</td>\n",
       "      <td>0.550847</td>\n",
       "    </tr>\n",
       "    <tr>\n",
       "      <th>2</th>\n",
       "      <td>2</td>\n",
       "      <td>0.500000</td>\n",
       "    </tr>\n",
       "    <tr>\n",
       "      <th>3</th>\n",
       "      <td>3</td>\n",
       "      <td>0.600000</td>\n",
       "    </tr>\n",
       "    <tr>\n",
       "      <th>4</th>\n",
       "      <td>4</td>\n",
       "      <td>0.000000</td>\n",
       "    </tr>\n",
       "    <tr>\n",
       "      <th>5</th>\n",
       "      <td>5</td>\n",
       "      <td>0.200000</td>\n",
       "    </tr>\n",
       "    <tr>\n",
       "      <th>6</th>\n",
       "      <td>6</td>\n",
       "      <td>0.000000</td>\n",
       "    </tr>\n",
       "  </tbody>\n",
       "</table>\n",
       "</div>"
      ],
      "text/plain": [
       "   Parch  Survived\n",
       "0      0  0.343658\n",
       "1      1  0.550847\n",
       "2      2  0.500000\n",
       "3      3  0.600000\n",
       "4      4  0.000000\n",
       "5      5  0.200000\n",
       "6      6  0.000000"
      ]
     },
     "execution_count": 20,
     "metadata": {},
     "output_type": "execute_result"
    }
   ],
   "source": [
    "df_train[['Parch', 'Survived']].groupby(['Parch'], as_index=False).mean()"
   ]
  },
  {
   "cell_type": "code",
   "execution_count": 21,
   "metadata": {
    "collapsed": false
   },
   "outputs": [
    {
     "data": {
      "text/html": [
       "<div>\n",
       "<table border=\"1\" class=\"dataframe\">\n",
       "  <thead>\n",
       "    <tr style=\"text-align: right;\">\n",
       "      <th></th>\n",
       "      <th>FamilySize</th>\n",
       "      <th>Survived</th>\n",
       "    </tr>\n",
       "  </thead>\n",
       "  <tbody>\n",
       "    <tr>\n",
       "      <th>0</th>\n",
       "      <td>1</td>\n",
       "      <td>0.303538</td>\n",
       "    </tr>\n",
       "    <tr>\n",
       "      <th>1</th>\n",
       "      <td>2</td>\n",
       "      <td>0.552795</td>\n",
       "    </tr>\n",
       "    <tr>\n",
       "      <th>2</th>\n",
       "      <td>3</td>\n",
       "      <td>0.578431</td>\n",
       "    </tr>\n",
       "    <tr>\n",
       "      <th>3</th>\n",
       "      <td>4</td>\n",
       "      <td>0.724138</td>\n",
       "    </tr>\n",
       "    <tr>\n",
       "      <th>4</th>\n",
       "      <td>5</td>\n",
       "      <td>0.200000</td>\n",
       "    </tr>\n",
       "    <tr>\n",
       "      <th>5</th>\n",
       "      <td>6</td>\n",
       "      <td>0.136364</td>\n",
       "    </tr>\n",
       "    <tr>\n",
       "      <th>6</th>\n",
       "      <td>7</td>\n",
       "      <td>0.333333</td>\n",
       "    </tr>\n",
       "    <tr>\n",
       "      <th>7</th>\n",
       "      <td>8</td>\n",
       "      <td>0.000000</td>\n",
       "    </tr>\n",
       "    <tr>\n",
       "      <th>8</th>\n",
       "      <td>11</td>\n",
       "      <td>0.000000</td>\n",
       "    </tr>\n",
       "  </tbody>\n",
       "</table>\n",
       "</div>"
      ],
      "text/plain": [
       "   FamilySize  Survived\n",
       "0           1  0.303538\n",
       "1           2  0.552795\n",
       "2           3  0.578431\n",
       "3           4  0.724138\n",
       "4           5  0.200000\n",
       "5           6  0.136364\n",
       "6           7  0.333333\n",
       "7           8  0.000000\n",
       "8          11  0.000000"
      ]
     },
     "execution_count": 21,
     "metadata": {},
     "output_type": "execute_result"
    }
   ],
   "source": [
    "df_train[\"FamilySize\"] = df_train[\"SibSp\"] + df_train[\"Parch\"] + 1\n",
    "df_test[\"FamilySize\"] = df_test[\"SibSp\"] + df_test[\"Parch\"] + 1\n",
    "df_train[['FamilySize', 'Survived']].groupby(['FamilySize'], as_index=False).mean()"
   ]
  },
  {
   "cell_type": "markdown",
   "metadata": {},
   "source": [
    "1～4の家族は生き残りやすい傾向"
   ]
  },
  {
   "cell_type": "code",
   "execution_count": 22,
   "metadata": {
    "collapsed": false
   },
   "outputs": [
    {
     "data": {
      "text/html": [
       "<div>\n",
       "<table border=\"1\" class=\"dataframe\">\n",
       "  <thead>\n",
       "    <tr style=\"text-align: right;\">\n",
       "      <th></th>\n",
       "      <th>Honorific</th>\n",
       "      <th>Survived</th>\n",
       "    </tr>\n",
       "  </thead>\n",
       "  <tbody>\n",
       "    <tr>\n",
       "      <th>0</th>\n",
       "      <td>0</td>\n",
       "      <td>0.158301</td>\n",
       "    </tr>\n",
       "    <tr>\n",
       "      <th>1</th>\n",
       "      <td>1</td>\n",
       "      <td>0.790698</td>\n",
       "    </tr>\n",
       "    <tr>\n",
       "      <th>2</th>\n",
       "      <td>2</td>\n",
       "      <td>0.700000</td>\n",
       "    </tr>\n",
       "    <tr>\n",
       "      <th>3</th>\n",
       "      <td>3</td>\n",
       "      <td>0.575000</td>\n",
       "    </tr>\n",
       "    <tr>\n",
       "      <th>4</th>\n",
       "      <td>4</td>\n",
       "      <td>1.000000</td>\n",
       "    </tr>\n",
       "    <tr>\n",
       "      <th>5</th>\n",
       "      <td>5</td>\n",
       "      <td>0.428571</td>\n",
       "    </tr>\n",
       "    <tr>\n",
       "      <th>6</th>\n",
       "      <td>6</td>\n",
       "      <td>0.312500</td>\n",
       "    </tr>\n",
       "  </tbody>\n",
       "</table>\n",
       "</div>"
      ],
      "text/plain": [
       "   Honorific  Survived\n",
       "0          0  0.158301\n",
       "1          1  0.790698\n",
       "2          2  0.700000\n",
       "3          3  0.575000\n",
       "4          4  1.000000\n",
       "5          5  0.428571\n",
       "6          6  0.312500"
      ]
     },
     "execution_count": 22,
     "metadata": {},
     "output_type": "execute_result"
    }
   ],
   "source": [
    "df_train[['Honorific', 'Survived']].groupby(['Honorific'], as_index=False).mean()"
   ]
  },
  {
   "cell_type": "markdown",
   "metadata": {},
   "source": [
    "1:mrs, 2:miss が生き残る傾向\n",
    "\n",
    "3:master も同様に生き残る傾向\n",
    "\n",
    "Age処理のための検討 1 より、Age処理のための検討 2の方が妥当性が高い"
   ]
  },
  {
   "cell_type": "code",
   "execution_count": 23,
   "metadata": {
    "collapsed": false,
    "scrolled": false
   },
   "outputs": [
    {
     "data": {
      "image/png": "[encoded data removed]",
      "text/plain": [
       "<matplotlib.figure.Figure at 0xa45b6a0>"
      ]
     },
     "metadata": {},
     "output_type": "display_data"
    },
    {
     "data": {
      "image/png": "[encoded data removed]",
      "text/plain": [
       "<matplotlib.figure.Figure at 0x9308b70>"
      ]
     },
     "metadata": {},
     "output_type": "display_data"
    },
    {
     "data": {
      "image/png": "[encoded data removed]",
      "text/plain": [
       "<matplotlib.figure.Figure at 0xa4a99b0>"
      ]
     },
     "metadata": {},
     "output_type": "display_data"
    },
    {
     "data": {
      "image/png": "[encoded data removed]",
      "text/plain": [
       "<matplotlib.figure.Figure at 0xa54aa58>"
      ]
     },
     "metadata": {},
     "output_type": "display_data"
    },
    {
     "data": {
      "image/png": "[encoded data removed]",
      "text/plain": [
       "<matplotlib.figure.Figure at 0xa55acf8>"
      ]
     },
     "metadata": {},
     "output_type": "display_data"
    },
    {
     "data": {
      "image/png": "[encoded data removed]",
      "text/plain": [
       "<matplotlib.figure.Figure at 0xa615b00>"
      ]
     },
     "metadata": {},
     "output_type": "display_data"
    },
    {
     "data": {
      "image/png": "[encoded data removed]",
      "text/plain": [
       "<matplotlib.figure.Figure at 0xa61a438>"
      ]
     },
     "metadata": {},
     "output_type": "display_data"
    }
   ],
   "source": [
    "split_data = []\n",
    "for survived in [0,1]:\n",
    "    split_data.append(df_train[df_train.Survived==survived])\n",
    "\n",
    "temp = [i[\"Pclass\"].dropna() for i in split_data]\n",
    "plt.title('Pclass')\n",
    "plt.hist(temp, histtype=\"barstacked\", color = ['b', 'r'], label = ['dead', 'alive'], bins=3)\n",
    "plt.legend()\n",
    "plt.show()\n",
    "\n",
    "temp = [i[\"Sex\"].dropna() for i in split_data]\n",
    "plt.title('Sex (0:male, 1:female)')\n",
    "plt.hist(temp, histtype=\"barstacked\", color = ['b', 'r'], label = ['dead', 'alive'], bins=2)\n",
    "plt.legend()\n",
    "plt.show()\n",
    "\n",
    "temp = [i[\"Age\"].dropna() for i in split_data]\n",
    "plt.title('Age')\n",
    "plt.hist(temp, histtype=\"barstacked\", color = ['b', 'r'], label = ['dead', 'alive'], bins=16)\n",
    "plt.legend()\n",
    "plt.show()\n",
    "\n",
    "temp = [i[\"Age_1\"].dropna() for i in split_data]\n",
    "plt.title('Age_1')\n",
    "plt.hist(temp, histtype=\"barstacked\", color = ['b', 'r'], label = ['dead', 'alive'], bins=16)\n",
    "plt.legend()\n",
    "plt.show()\n",
    "\n",
    "temp = [i[\"Age_2\"].dropna() for i in split_data]\n",
    "plt.title('Age_2')\n",
    "plt.hist(temp, histtype=\"barstacked\", color = ['b', 'r'], label = ['dead', 'alive'], bins=16)\n",
    "plt.legend()\n",
    "plt.show()\n",
    "\n",
    "\n",
    "temp = [i[\"FamilySize\"].dropna() for i in split_data]\n",
    "plt.title('FamilySize')\n",
    "plt.hist(temp, histtype=\"barstacked\", color = ['b', 'r'], label = ['dead', 'alive'], bins=11)\n",
    "plt.legend()\n",
    "plt.show()\n",
    "\n",
    "temp = [i[\"Honorific\"].dropna() for i in split_data]\n",
    "plt.title('Honorific')\n",
    "plt.hist(temp, histtype=\"barstacked\", color = ['b', 'r'], label = ['dead', 'alive'], bins=7)\n",
    "plt.legend()\n",
    "plt.show()"
   ]
  },
  {
   "cell_type": "markdown",
   "metadata": {},
   "source": [
    "Age_2は、Age_1のような尖ったピークが起きにくくなっており、微弱にもmasterの部分のデータが考慮されていることが分かる"
   ]
  },
  {
   "cell_type": "markdown",
   "metadata": {},
   "source": [
    "##2.8) データ相関再確認"
   ]
  },
  {
   "cell_type": "code",
   "execution_count": 24,
   "metadata": {
    "collapsed": false
   },
   "outputs": [
    {
     "data": {
      "text/html": [
       "<div>\n",
       "<table border=\"1\" class=\"dataframe\">\n",
       "  <thead>\n",
       "    <tr style=\"text-align: right;\">\n",
       "      <th></th>\n",
       "      <th>Survived</th>\n",
       "      <th>Pclass</th>\n",
       "      <th>Sex</th>\n",
       "      <th>Age</th>\n",
       "      <th>SibSp</th>\n",
       "      <th>Parch</th>\n",
       "      <th>Fare</th>\n",
       "      <th>Age_1</th>\n",
       "      <th>Honorific</th>\n",
       "      <th>Age_2</th>\n",
       "      <th>FamilySize</th>\n",
       "    </tr>\n",
       "  </thead>\n",
       "  <tbody>\n",
       "    <tr>\n",
       "      <th>Survived</th>\n",
       "      <td>1.000000</td>\n",
       "      <td>-0.034542</td>\n",
       "      <td>0.532418</td>\n",
       "      <td>-0.254085</td>\n",
       "      <td>0.106346</td>\n",
       "      <td>0.023582</td>\n",
       "      <td>0.134241</td>\n",
       "      <td>-0.254085</td>\n",
       "      <td>0.338201</td>\n",
       "      <td>-0.254085</td>\n",
       "      <td>0.077731</td>\n",
       "    </tr>\n",
       "    <tr>\n",
       "      <th>Pclass</th>\n",
       "      <td>-0.034542</td>\n",
       "      <td>1.000000</td>\n",
       "      <td>0.046181</td>\n",
       "      <td>-0.306514</td>\n",
       "      <td>-0.103592</td>\n",
       "      <td>0.047496</td>\n",
       "      <td>-0.315235</td>\n",
       "      <td>-0.306514</td>\n",
       "      <td>0.019349</td>\n",
       "      <td>-0.306514</td>\n",
       "      <td>-0.027821</td>\n",
       "    </tr>\n",
       "    <tr>\n",
       "      <th>Sex</th>\n",
       "      <td>0.532418</td>\n",
       "      <td>0.046181</td>\n",
       "      <td>1.000000</td>\n",
       "      <td>-0.184969</td>\n",
       "      <td>0.104291</td>\n",
       "      <td>0.089581</td>\n",
       "      <td>0.130433</td>\n",
       "      <td>-0.184969</td>\n",
       "      <td>0.397305</td>\n",
       "      <td>-0.184969</td>\n",
       "      <td>0.121397</td>\n",
       "    </tr>\n",
       "    <tr>\n",
       "      <th>Age</th>\n",
       "      <td>-0.254085</td>\n",
       "      <td>-0.306514</td>\n",
       "      <td>-0.184969</td>\n",
       "      <td>1.000000</td>\n",
       "      <td>-0.156162</td>\n",
       "      <td>-0.271271</td>\n",
       "      <td>-0.092424</td>\n",
       "      <td>1.000000</td>\n",
       "      <td>-0.208270</td>\n",
       "      <td>1.000000</td>\n",
       "      <td>-0.274985</td>\n",
       "    </tr>\n",
       "    <tr>\n",
       "      <th>SibSp</th>\n",
       "      <td>0.106346</td>\n",
       "      <td>-0.103592</td>\n",
       "      <td>0.104291</td>\n",
       "      <td>-0.156162</td>\n",
       "      <td>1.000000</td>\n",
       "      <td>0.255346</td>\n",
       "      <td>0.286433</td>\n",
       "      <td>-0.156162</td>\n",
       "      <td>0.037582</td>\n",
       "      <td>-0.156162</td>\n",
       "      <td>0.753754</td>\n",
       "    </tr>\n",
       "    <tr>\n",
       "      <th>Parch</th>\n",
       "      <td>0.023582</td>\n",
       "      <td>0.047496</td>\n",
       "      <td>0.089581</td>\n",
       "      <td>-0.271271</td>\n",
       "      <td>0.255346</td>\n",
       "      <td>1.000000</td>\n",
       "      <td>0.389740</td>\n",
       "      <td>-0.271271</td>\n",
       "      <td>0.081590</td>\n",
       "      <td>-0.271271</td>\n",
       "      <td>0.827840</td>\n",
       "    </tr>\n",
       "    <tr>\n",
       "      <th>Fare</th>\n",
       "      <td>0.134241</td>\n",
       "      <td>-0.315235</td>\n",
       "      <td>0.130433</td>\n",
       "      <td>-0.092424</td>\n",
       "      <td>0.286433</td>\n",
       "      <td>0.389740</td>\n",
       "      <td>1.000000</td>\n",
       "      <td>-0.092424</td>\n",
       "      <td>0.016755</td>\n",
       "      <td>-0.092424</td>\n",
       "      <td>0.431089</td>\n",
       "    </tr>\n",
       "    <tr>\n",
       "      <th>Age_1</th>\n",
       "      <td>-0.254085</td>\n",
       "      <td>-0.306514</td>\n",
       "      <td>-0.184969</td>\n",
       "      <td>1.000000</td>\n",
       "      <td>-0.156162</td>\n",
       "      <td>-0.271271</td>\n",
       "      <td>-0.092424</td>\n",
       "      <td>1.000000</td>\n",
       "      <td>-0.208270</td>\n",
       "      <td>1.000000</td>\n",
       "      <td>-0.274985</td>\n",
       "    </tr>\n",
       "    <tr>\n",
       "      <th>Honorific</th>\n",
       "      <td>0.338201</td>\n",
       "      <td>0.019349</td>\n",
       "      <td>0.397305</td>\n",
       "      <td>-0.208270</td>\n",
       "      <td>0.037582</td>\n",
       "      <td>0.081590</td>\n",
       "      <td>0.016755</td>\n",
       "      <td>-0.208270</td>\n",
       "      <td>1.000000</td>\n",
       "      <td>-0.208270</td>\n",
       "      <td>0.077260</td>\n",
       "    </tr>\n",
       "    <tr>\n",
       "      <th>Age_2</th>\n",
       "      <td>-0.254085</td>\n",
       "      <td>-0.306514</td>\n",
       "      <td>-0.184969</td>\n",
       "      <td>1.000000</td>\n",
       "      <td>-0.156162</td>\n",
       "      <td>-0.271271</td>\n",
       "      <td>-0.092424</td>\n",
       "      <td>1.000000</td>\n",
       "      <td>-0.208270</td>\n",
       "      <td>1.000000</td>\n",
       "      <td>-0.274985</td>\n",
       "    </tr>\n",
       "    <tr>\n",
       "      <th>FamilySize</th>\n",
       "      <td>0.077731</td>\n",
       "      <td>-0.027821</td>\n",
       "      <td>0.121397</td>\n",
       "      <td>-0.274985</td>\n",
       "      <td>0.753754</td>\n",
       "      <td>0.827840</td>\n",
       "      <td>0.431089</td>\n",
       "      <td>-0.274985</td>\n",
       "      <td>0.077260</td>\n",
       "      <td>-0.274985</td>\n",
       "      <td>1.000000</td>\n",
       "    </tr>\n",
       "  </tbody>\n",
       "</table>\n",
       "</div>"
      ],
      "text/plain": [
       "            Survived    Pclass       Sex       Age     SibSp     Parch  \\\n",
       "Survived    1.000000 -0.034542  0.532418 -0.254085  0.106346  0.023582   \n",
       "Pclass     -0.034542  1.000000  0.046181 -0.306514 -0.103592  0.047496   \n",
       "Sex         0.532418  0.046181  1.000000 -0.184969  0.104291  0.089581   \n",
       "Age        -0.254085 -0.306514 -0.184969  1.000000 -0.156162 -0.271271   \n",
       "SibSp       0.106346 -0.103592  0.104291 -0.156162  1.000000  0.255346   \n",
       "Parch       0.023582  0.047496  0.089581 -0.271271  0.255346  1.000000   \n",
       "Fare        0.134241 -0.315235  0.130433 -0.092424  0.286433  0.389740   \n",
       "Age_1      -0.254085 -0.306514 -0.184969  1.000000 -0.156162 -0.271271   \n",
       "Honorific   0.338201  0.019349  0.397305 -0.208270  0.037582  0.081590   \n",
       "Age_2      -0.254085 -0.306514 -0.184969  1.000000 -0.156162 -0.271271   \n",
       "FamilySize  0.077731 -0.027821  0.121397 -0.274985  0.753754  0.827840   \n",
       "\n",
       "                Fare     Age_1  Honorific     Age_2  FamilySize  \n",
       "Survived    0.134241 -0.254085   0.338201 -0.254085    0.077731  \n",
       "Pclass     -0.315235 -0.306514   0.019349 -0.306514   -0.027821  \n",
       "Sex         0.130433 -0.184969   0.397305 -0.184969    0.121397  \n",
       "Age        -0.092424  1.000000  -0.208270  1.000000   -0.274985  \n",
       "SibSp       0.286433 -0.156162   0.037582 -0.156162    0.753754  \n",
       "Parch       0.389740 -0.271271   0.081590 -0.271271    0.827840  \n",
       "Fare        1.000000 -0.092424   0.016755 -0.092424    0.431089  \n",
       "Age_1      -0.092424  1.000000  -0.208270  1.000000   -0.274985  \n",
       "Honorific   0.016755 -0.208270   1.000000 -0.208270    0.077260  \n",
       "Age_2      -0.092424  1.000000  -0.208270  1.000000   -0.274985  \n",
       "FamilySize  0.431089 -0.274985   0.077260 -0.274985    1.000000  "
      ]
     },
     "execution_count": 24,
     "metadata": {},
     "output_type": "execute_result"
    }
   ],
   "source": [
    "df_train_dropna = df_train.dropna()\n",
    "df_train_dropna = df_train_dropna.drop('Cabin', axis = 1)\n",
    "df_train_dropna = df_train_dropna.drop('PassengerId', axis = 1)\n",
    "df_train_dropna.corr()"
   ]
  },
  {
   "cell_type": "markdown",
   "metadata": {},
   "source": [
    "データ解析の結果から次が注目点となる：\n",
    "\n",
    "・Pclass, Sex, FamilySize, Age_2(Honorific) を特徴量として使える可能性\n",
    "\n",
    "・SibSpとFamilySizeの差\n",
    "\n",
    "・Fareの関係性\n",
    "\n",
    "・Honorificは、Sexよりよい特徴量の可能性\n",
    "\n",
    " 　-maleの内、masterは生き残りやすいことが想定される"
   ]
  },
  {
   "cell_type": "markdown",
   "metadata": {},
   "source": [
    "##2.9) データセット準備"
   ]
  },
  {
   "cell_type": "code",
   "execution_count": 25,
   "metadata": {
    "collapsed": false
   },
   "outputs": [],
   "source": [
    "from sklearn.cross_validation import train_test_split\n",
    "#データセット作成\n",
    "features = ['Pclass', 'Sex', 'FamilySize', 'Age_2', 'Honorific']\n",
    "#features = ['Sex', 'FamilySize', 'Age_2', 'Honorific']\n",
    "#features = ['Sex', 'FamilySize', 'Age_2']\n",
    "x = df_train[features]\n",
    "y = df_train['Survived']\n",
    "x_test = df_test[features]\n",
    "x_train, x_eval, y_train, y_eval = train_test_split(x, y, test_size=0.8, random_state=0)"
   ]
  },
  {
   "cell_type": "code",
   "execution_count": 26,
   "metadata": {
    "collapsed": false
   },
   "outputs": [
    {
     "data": {
      "text/html": [
       "<div>\n",
       "<table border=\"1\" class=\"dataframe\">\n",
       "  <thead>\n",
       "    <tr style=\"text-align: right;\">\n",
       "      <th></th>\n",
       "      <th>Pclass</th>\n",
       "      <th>Sex</th>\n",
       "      <th>FamilySize</th>\n",
       "      <th>Age_2</th>\n",
       "      <th>Honorific</th>\n",
       "    </tr>\n",
       "  </thead>\n",
       "  <tbody>\n",
       "    <tr>\n",
       "      <th>count</th>\n",
       "      <td>418.000000</td>\n",
       "      <td>418.000000</td>\n",
       "      <td>418.000000</td>\n",
       "      <td>418.000000</td>\n",
       "      <td>418.000000</td>\n",
       "    </tr>\n",
       "    <tr>\n",
       "      <th>mean</th>\n",
       "      <td>2.265550</td>\n",
       "      <td>0.363636</td>\n",
       "      <td>1.839713</td>\n",
       "      <td>30.156630</td>\n",
       "      <td>0.789474</td>\n",
       "    </tr>\n",
       "    <tr>\n",
       "      <th>std</th>\n",
       "      <td>0.841838</td>\n",
       "      <td>0.481622</td>\n",
       "      <td>1.519072</td>\n",
       "      <td>13.027043</td>\n",
       "      <td>1.131067</td>\n",
       "    </tr>\n",
       "    <tr>\n",
       "      <th>min</th>\n",
       "      <td>1.000000</td>\n",
       "      <td>0.000000</td>\n",
       "      <td>1.000000</td>\n",
       "      <td>0.170000</td>\n",
       "      <td>0.000000</td>\n",
       "    </tr>\n",
       "    <tr>\n",
       "      <th>25%</th>\n",
       "      <td>1.000000</td>\n",
       "      <td>0.000000</td>\n",
       "      <td>1.000000</td>\n",
       "      <td>22.000000</td>\n",
       "      <td>0.000000</td>\n",
       "    </tr>\n",
       "    <tr>\n",
       "      <th>50%</th>\n",
       "      <td>3.000000</td>\n",
       "      <td>0.000000</td>\n",
       "      <td>1.000000</td>\n",
       "      <td>30.000000</td>\n",
       "      <td>0.000000</td>\n",
       "    </tr>\n",
       "    <tr>\n",
       "      <th>75%</th>\n",
       "      <td>3.000000</td>\n",
       "      <td>1.000000</td>\n",
       "      <td>2.000000</td>\n",
       "      <td>35.910714</td>\n",
       "      <td>2.000000</td>\n",
       "    </tr>\n",
       "    <tr>\n",
       "      <th>max</th>\n",
       "      <td>3.000000</td>\n",
       "      <td>1.000000</td>\n",
       "      <td>11.000000</td>\n",
       "      <td>76.000000</td>\n",
       "      <td>6.000000</td>\n",
       "    </tr>\n",
       "  </tbody>\n",
       "</table>\n",
       "</div>"
      ],
      "text/plain": [
       "           Pclass         Sex  FamilySize       Age_2   Honorific\n",
       "count  418.000000  418.000000  418.000000  418.000000  418.000000\n",
       "mean     2.265550    0.363636    1.839713   30.156630    0.789474\n",
       "std      0.841838    0.481622    1.519072   13.027043    1.131067\n",
       "min      1.000000    0.000000    1.000000    0.170000    0.000000\n",
       "25%      1.000000    0.000000    1.000000   22.000000    0.000000\n",
       "50%      3.000000    0.000000    1.000000   30.000000    0.000000\n",
       "75%      3.000000    1.000000    2.000000   35.910714    2.000000\n",
       "max      3.000000    1.000000   11.000000   76.000000    6.000000"
      ]
     },
     "execution_count": 26,
     "metadata": {},
     "output_type": "execute_result"
    }
   ],
   "source": [
    "x_test.describe()"
   ]
  },
  {
   "cell_type": "markdown",
   "metadata": {},
   "source": [
    "##2.10) データ正規化\n",
    "平均 0 / 分散 1 へ正規化"
   ]
  },
  {
   "cell_type": "code",
   "execution_count": 27,
   "metadata": {
    "collapsed": false
   },
   "outputs": [],
   "source": [
    "from sklearn.preprocessing import StandardScaler\n",
    "sc = StandardScaler()\n",
    "sc.fit(x)\n",
    "x_std = sc.transform(x)\n",
    "sc.fit(x_train)\n",
    "x_train_std = sc.transform(x_train)\n",
    "sc.fit(x_eval)\n",
    "x_eval_std = sc.transform(x_eval)\n",
    "sc.fit(x_test)\n",
    "x_test_std = sc.transform(x_test)"
   ]
  },
  {
   "cell_type": "markdown",
   "metadata": {},
   "source": [
    "#3) 機械学習"
   ]
  },
  {
   "cell_type": "markdown",
   "metadata": {},
   "source": [
    "今回は下記6パターン\n",
    "\n",
    "・Random Forest  \n",
    "・K Nearest Neighbor  \n",
    "・SGDClassifier(パーセプトロン)  \n",
    "・Support Vector Machine  \n",
    "・Gradient Boosting Decision Tree  \n",
    "・Deep Learning(by Chainer)"
   ]
  },
  {
   "cell_type": "code",
   "execution_count": 28,
   "metadata": {
    "collapsed": true
   },
   "outputs": [],
   "source": [
    "from sklearn.metrics import classification_report"
   ]
  },
  {
   "cell_type": "markdown",
   "metadata": {},
   "source": [
    "##3.1) Random Forest"
   ]
  },
  {
   "cell_type": "code",
   "execution_count": 29,
   "metadata": {
    "collapsed": false
   },
   "outputs": [
    {
     "name": "stdout",
     "output_type": "stream",
     "text": [
      "[[ 0.98571429  0.01428571]\n",
      " [ 0.98571429  0.01428571]\n",
      " [ 0.8         0.2       ]\n",
      " ..., \n",
      " [ 0.5         0.5       ]\n",
      " [ 1.          0.        ]\n",
      " [ 1.          0.        ]]\n",
      "[y_eval] accuracy =  79.38289 %\n",
      "[y_eval] std      =  0.45395\n"
     ]
    }
   ],
   "source": [
    "from sklearn.ensemble import RandomForestClassifier\n",
    "rf = RandomForestClassifier()\n",
    "rf.fit(x_train_std, y_train) \n",
    "y_eval_pred = rf.predict(x_eval_std)\n",
    "#所属クラスの確率を推定\n",
    "PRINT(rf.predict_proba(x_eval_std))\n",
    "PRINT('[y_eval] accuracy = ', round((1 - np.mean((y_eval ^ y_eval_pred))) * 100, 5), '%')\n",
    "PRINT('[y_eval] std      = ', round(np.std(y_eval - y_eval_pred), 5))"
   ]
  },
  {
   "cell_type": "code",
   "execution_count": 30,
   "metadata": {
    "collapsed": false,
    "scrolled": true
   },
   "outputs": [
    {
     "name": "stdout",
     "output_type": "stream",
     "text": [
      "              precision    recall  f1-score   support\n",
      "\n",
      "not Survived       0.84      0.83      0.84       452\n",
      "    Survived       0.71      0.73      0.72       261\n",
      "\n",
      " avg / total       0.80      0.79      0.79       713\n",
      "\n"
     ]
    }
   ],
   "source": [
    "y_true, y_pred = y_eval, rf.predict(x_eval_std)\n",
    "print(classification_report(y_true, y_pred, target_names=[\"not Survived\", \"Survived\"]))"
   ]
  },
  {
   "cell_type": "markdown",
   "metadata": {},
   "source": [
    "|item|説明|数式|\n",
    "|:--|:--|\n",
    "|precision|適合率 (正確性:システムが正しいと判定したものの内、本当に正しく判断できたのの割合)|tp/(tp+fp)|\n",
    "|recall|再現率 (網羅性:正しく判断されるべきものの内、本当に正しく判断できたのの割合)|tp/(tp+fn)|\n",
    "|f1 score|F値|(2×適合率×再現率)/(適合率＋再現率)|\n",
    "\n",
    "||1 (real)|0 (real)|\n",
    "|:--|:--|:--|\n",
    "|1 (pred)|tp|fp|\n",
    "|0 (pred)|fn|tn|\n"
   ]
  },
  {
   "cell_type": "code",
   "execution_count": 31,
   "metadata": {
    "collapsed": true
   },
   "outputs": [],
   "source": [
    "#submission scored 0.64593\n",
    "rf.fit(x_std, y) \n",
    "y_test_pred = rf.predict(x_test_std)"
   ]
  },
  {
   "cell_type": "markdown",
   "metadata": {},
   "source": [
    "##3.2) K Nearest Neighbor"
   ]
  },
  {
   "cell_type": "code",
   "execution_count": 32,
   "metadata": {
    "collapsed": false
   },
   "outputs": [
    {
     "name": "stdout",
     "output_type": "stream",
     "text": [
      "[[ 1.          0.        ]\n",
      " [ 1.          0.        ]\n",
      " [ 0.66666667  0.33333333]\n",
      " ..., \n",
      " [ 0.33333333  0.66666667]\n",
      " [ 1.          0.        ]\n",
      " [ 1.          0.        ]]\n",
      "[y_eval] accuracy =  78.82188 %\n",
      "[y_eval] std      =  0.45693\n"
     ]
    }
   ],
   "source": [
    "from sklearn.neighbors import KNeighborsClassifier\n",
    "knc = KNeighborsClassifier(n_neighbors=3)\n",
    "knc.fit(x_train_std, y_train) \n",
    "y_eval_pred = knc.predict(x_eval_std)\n",
    "#所属クラスの確率を推定\n",
    "PRINT(knc.predict_proba(x_eval_std))\n",
    "PRINT('[y_eval] accuracy = ', round((1 - np.mean((y_eval ^ y_eval_pred))) * 100, 5), '%')        \n",
    "PRINT('[y_eval] std      = ', round(np.std(y_eval - y_eval_pred), 5))"
   ]
  },
  {
   "cell_type": "code",
   "execution_count": 33,
   "metadata": {
    "collapsed": false
   },
   "outputs": [
    {
     "name": "stdout",
     "output_type": "stream",
     "text": [
      "              precision    recall  f1-score   support\n",
      "\n",
      "not Survived       0.86      0.79      0.83       452\n",
      "    Survived       0.68      0.79      0.73       261\n",
      "\n",
      " avg / total       0.80      0.79      0.79       713\n",
      "\n"
     ]
    }
   ],
   "source": [
    "y_true, y_pred = y_eval, knc.predict(x_eval_std)\n",
    "print(classification_report(y_true, y_pred, target_names=[\"not Survived\", \"Survived\"]))"
   ]
  },
  {
   "cell_type": "code",
   "execution_count": 34,
   "metadata": {
    "collapsed": true
   },
   "outputs": [],
   "source": [
    "#submission scored 0.71770\n",
    "knc.fit(x_std, y) \n",
    "KNeighborsClassifier(...)\n",
    "y_test_pred = knc.predict(x_test_std)"
   ]
  },
  {
   "cell_type": "markdown",
   "metadata": {},
   "source": [
    "##3.3)  SGDClassifier : パーセプトロン"
   ]
  },
  {
   "cell_type": "code",
   "execution_count": 35,
   "metadata": {
    "collapsed": false
   },
   "outputs": [
    {
     "name": "stdout",
     "output_type": "stream",
     "text": [
      "[y_eval] accuracy =  74.19355 %\n",
      "[y_eval] std      =  0.49278\n"
     ]
    }
   ],
   "source": [
    "from sklearn.linear_model import SGDClassifier\n",
    "# 確率的勾配降下法バージョンのパーセプトロンを生成\n",
    "ppn = SGDClassifier(loss=\"perceptron\")\n",
    "ppn.fit(x_train_std, y_train)\n",
    "y_eval_pred = ppn.predict(x_eval_std)\n",
    "#所属クラスの確率を推定\n",
    "PRINT('[y_eval] accuracy = ', round((1 - np.mean((y_eval ^ y_eval_pred))) * 100, 5), '%')\n",
    "PRINT('[y_eval] std      = ', round(np.std(y_eval - y_eval_pred), 5))"
   ]
  },
  {
   "cell_type": "code",
   "execution_count": 36,
   "metadata": {
    "collapsed": false
   },
   "outputs": [
    {
     "name": "stdout",
     "output_type": "stream",
     "text": [
      "              precision    recall  f1-score   support\n",
      "\n",
      "not Survived       0.75      0.89      0.81       452\n",
      "    Survived       0.72      0.48      0.58       261\n",
      "\n",
      " avg / total       0.74      0.74      0.73       713\n",
      "\n"
     ]
    }
   ],
   "source": [
    "y_true, y_pred = y_eval, ppn.predict(x_eval_std)\n",
    "print(classification_report(y_true, y_pred, target_names=[\"not Survived\", \"Survived\"]))"
   ]
  },
  {
   "cell_type": "code",
   "execution_count": 37,
   "metadata": {
    "collapsed": true
   },
   "outputs": [],
   "source": [
    "#submission scored 0.63158\n",
    "ppn.fit(x_std, y)\n",
    "y_test_pred = ppn.predict(x_test_std)"
   ]
  },
  {
   "cell_type": "markdown",
   "metadata": {},
   "source": [
    "##3.4) Support Vector Machine"
   ]
  },
  {
   "cell_type": "code",
   "execution_count": 38,
   "metadata": {
    "collapsed": false
   },
   "outputs": [
    {
     "data": {
      "text/plain": [
       "GridSearchCV(cv=10, error_score='raise',\n",
       "       estimator=SVC(C=1.0, cache_size=200, class_weight=None, coef0=0.0, degree=3, gamma=0.0,\n",
       "  kernel='rbf', max_iter=-1, probability=False, random_state=None,\n",
       "  shrinking=True, tol=0.001, verbose=False),\n",
       "       fit_params={}, iid=True, loss_func=None, n_jobs=-1,\n",
       "       param_grid=[{'C': [1, 10, 100, 1000], 'kernel': ['linear']}, {'C': [1, 10, 100, 1000], 'kernel': ['sigmoid'], 'gamma': [0.001, 0.0001]}, {'C': [1, 10, 100, 1000], 'kernel': ['rbf'], 'gamma': [0.001, 0.0001]}],\n",
       "       pre_dispatch='2*n_jobs', refit=True, score_func=None,\n",
       "       scoring='f1_weighted', verbose=0)"
      ]
     },
     "execution_count": 38,
     "metadata": {},
     "output_type": "execute_result"
    }
   ],
   "source": [
    "import numpy as np\n",
    "from sklearn.grid_search import GridSearchCV\n",
    "from sklearn.svm import SVC\n",
    "from sklearn.metrics import classification_report\n",
    "\n",
    "C_list = [1, 10, 100, 1000]\n",
    "g_list = [0.001, 0.0001]\n",
    "\n",
    "params_svc = [\n",
    "    {'kernel': ['linear'],  'C': C_list},\n",
    "    {'kernel': ['sigmoid'], 'C': C_list, 'gamma': g_list},\n",
    "    {'kernel': ['rbf'],     'C': C_list, 'gamma': g_list},\n",
    "    ]\n",
    "    #[memo] others (poly, precomputed)\n",
    "\n",
    "gsvc = GridSearchCV(SVC(), params_svc, cv=10, scoring='f1_weighted', n_jobs = -1)\n",
    "gsvc.fit(x_std, y)"
   ]
  },
  {
   "cell_type": "code",
   "execution_count": 39,
   "metadata": {
    "collapsed": false
   },
   "outputs": [
    {
     "name": "stdout",
     "output_type": "stream",
     "text": [
      "              precision    recall  f1-score   support\n",
      "\n",
      "not Survived       0.85      0.88      0.87       452\n",
      "    Survived       0.78      0.74      0.76       261\n",
      "\n",
      " avg / total       0.83      0.83      0.83       713\n",
      "\n"
     ]
    }
   ],
   "source": [
    "y_true, y_pred = y_eval, gsvc.predict(x_eval_std)\n",
    "print(classification_report(y_true, y_pred, target_names=[\"not Survived\", \"Survived\"]))"
   ]
  },
  {
   "cell_type": "code",
   "execution_count": 40,
   "metadata": {
    "collapsed": false,
    "scrolled": true
   },
   "outputs": [
    {
     "data": {
      "text/plain": [
       "0.82041154975125041"
      ]
     },
     "execution_count": 40,
     "metadata": {},
     "output_type": "execute_result"
    }
   ],
   "source": [
    "#gsvc.grid_scores_\n",
    "#gsvc.best_params_\n",
    "gsvc.best_score_"
   ]
  },
  {
   "cell_type": "code",
   "execution_count": 41,
   "metadata": {
    "collapsed": false
   },
   "outputs": [],
   "source": [
    "#submission scored 0.78947\n",
    "y_test_pred = gsvc.predict(x_test_std)"
   ]
  },
  {
   "cell_type": "markdown",
   "metadata": {},
   "source": [
    "##3.5) Gradient Boosting Decision Tree"
   ]
  },
  {
   "cell_type": "code",
   "execution_count": 42,
   "metadata": {
    "collapsed": false
   },
   "outputs": [
    {
     "name": "stdout",
     "output_type": "stream",
     "text": [
      "[[ 0.90305255  0.09694745]\n",
      " [ 0.90305255  0.09694745]\n",
      " [ 0.96660795  0.03339205]\n",
      " ..., \n",
      " [ 0.52373388  0.47626612]\n",
      " [ 0.9818314   0.0181686 ]\n",
      " [ 0.91278242  0.08721758]]\n",
      "[y_eval] accuracy =  80.2244 %\n",
      "[y_eval] std      =  0.44132\n"
     ]
    }
   ],
   "source": [
    "from sklearn.ensemble import GradientBoostingClassifier\n",
    "gbdt = GradientBoostingClassifier(n_estimators=100, learning_rate=0.1,max_depth=2)\n",
    "gbdt.fit(x_train_std, y_train)\n",
    "y_eval_pred = gbdt.predict(x_eval_std)\n",
    "#所属クラスの確率を推定\n",
    "PRINT(gbdt.predict_proba(x_eval_std))\n",
    "PRINT('[y_eval] accuracy = ', round((1 - np.mean((y_eval ^ y_eval_pred))) * 100, 5), '%')\n",
    "PRINT('[y_eval] std      = ', round(np.std(y_eval - y_eval_pred), 5))"
   ]
  },
  {
   "cell_type": "code",
   "execution_count": 43,
   "metadata": {
    "collapsed": false
   },
   "outputs": [
    {
     "name": "stdout",
     "output_type": "stream",
     "text": [
      "              precision    recall  f1-score   support\n",
      "\n",
      "not Survived       0.88      0.80      0.84       452\n",
      "    Survived       0.70      0.80      0.75       261\n",
      "\n",
      " avg / total       0.81      0.80      0.80       713\n",
      "\n"
     ]
    }
   ],
   "source": [
    "y_true, y_pred = y_eval, gbdt.predict(x_eval_std)\n",
    "print(classification_report(y_true, y_pred, target_names=[\"not Survived\", \"Survived\"]))"
   ]
  },
  {
   "cell_type": "code",
   "execution_count": 44,
   "metadata": {
    "collapsed": false
   },
   "outputs": [
    {
     "data": {
      "text/plain": [
       "1.0"
      ]
     },
     "execution_count": 44,
     "metadata": {},
     "output_type": "execute_result"
    }
   ],
   "source": [
    "gbdt.score(x_eval_std, y_eval_pred)"
   ]
  },
  {
   "cell_type": "code",
   "execution_count": 45,
   "metadata": {
    "collapsed": true
   },
   "outputs": [],
   "source": [
    "#submission scored 0.78469 (max_depth==1)\n",
    "#submission scored 0.77033 (max_depth==2)\n",
    "#submission scored 0.76077 (max_depth==3)\n",
    "gbdt.fit(x_std, y)\n",
    "y_test_pred = gbdt.predict(x_test_std)"
   ]
  },
  {
   "cell_type": "markdown",
   "metadata": {},
   "source": [
    "###Gradient Boosting Decision Tree with GridSearchCV"
   ]
  },
  {
   "cell_type": "code",
   "execution_count": 46,
   "metadata": {
    "collapsed": false
   },
   "outputs": [
    {
     "name": "stdout",
     "output_type": "stream",
     "text": [
      "[[ 0.6097616  0.3902384]\n",
      " [ 0.6097616  0.3902384]\n",
      " [ 0.6183872  0.3816128]\n",
      " ..., \n",
      " [ 0.4659079  0.5340921]\n",
      " [ 0.6097616  0.3902384]\n",
      " [ 0.6097616  0.3902384]]\n",
      "[y_eval] accuracy =  80.92567 %\n",
      "[y_eval] std      =  0.43666\n"
     ]
    }
   ],
   "source": [
    "from sklearn.ensemble import GradientBoostingClassifier\n",
    "params_gbdt =[ {'n_estimators': [20, 30, 40, 50], 'learning_rate':[0.01], 'max_depth': [1,2,3,4], 'min_samples_split': [3]}, ]\n",
    "\n",
    "ggbdt = GridSearchCV(\n",
    "    estimator = GradientBoostingClassifier(),\n",
    "    param_grid = params_gbdt, \n",
    "    scoring='roc_auc',\n",
    "    #scoring='f1_weighted'\n",
    "    n_jobs=-1,\n",
    "    #iid=False, \n",
    "    cv=10)\n",
    "ggbdt.fit(x_train_std, y_train)\n",
    "y_eval_pred = ggbdt.predict(x_eval_std)\n",
    "#所属クラスの確率を推定\n",
    "PRINT(ggbdt.predict_proba(x_eval_std))\n",
    "PRINT('[y_eval] accuracy = ', round((1 - np.mean((y_eval ^ y_eval_pred))) * 100, 5), '%')\n",
    "PRINT('[y_eval] std      = ', round(np.std(y_eval - y_eval_pred), 5))"
   ]
  },
  {
   "cell_type": "code",
   "execution_count": 47,
   "metadata": {
    "collapsed": false
   },
   "outputs": [
    {
     "name": "stdout",
     "output_type": "stream",
     "text": [
      "              precision    recall  f1-score   support\n",
      "\n",
      "not Survived       0.84      0.86      0.85       452\n",
      "    Survived       0.75      0.73      0.74       261\n",
      "\n",
      " avg / total       0.81      0.81      0.81       713\n",
      "\n"
     ]
    }
   ],
   "source": [
    "y_true, y_pred = y_eval, ggbdt.predict(x_eval_std)\n",
    "print(classification_report(y_true, y_pred, target_names=[\"not Survived\", \"Survived\"]))"
   ]
  },
  {
   "cell_type": "code",
   "execution_count": 48,
   "metadata": {
    "collapsed": false
   },
   "outputs": [
    {
     "data": {
      "text/plain": [
       "{'learning_rate': 0.01,\n",
       " 'max_depth': 2,\n",
       " 'min_samples_split': 3,\n",
       " 'n_estimators': 20}"
      ]
     },
     "execution_count": 48,
     "metadata": {},
     "output_type": "execute_result"
    }
   ],
   "source": [
    "#clf.grid_scores_\n",
    "ggbdt.best_params_\n",
    "#clf.best_score_"
   ]
  },
  {
   "cell_type": "code",
   "execution_count": 49,
   "metadata": {
    "collapsed": true
   },
   "outputs": [],
   "source": [
    "#submission scored 0.77033\n",
    "y_test_pred = ggbdt.predict(x_test_std)"
   ]
  },
  {
   "cell_type": "markdown",
   "metadata": {},
   "source": [
    "##3.6) Deep Learning"
   ]
  },
  {
   "cell_type": "code",
   "execution_count": 50,
   "metadata": {
    "collapsed": false
   },
   "outputs": [],
   "source": [
    "import chainer\n",
    "import six\n",
    "import time\n",
    "import os\n",
    "#import cudaでcuda実行可能\n",
    "from chainer import cuda, Function, gradient_check, Variable, optimizers, serializers, utils\n",
    "import chainer.functions as F\n",
    "import chainer.links as L#必要モジュールインポート\n",
    "import sys\n",
    "class Model(chainer.Chain):\n",
    "    def __init__(self, n_in, n_units):\n",
    "        super(Model, self).__init__(\n",
    "            l1=F.Linear(n_in, n_units),\n",
    "            l2=F.Linear(n_units, n_units),\n",
    "            l3=F.Linear(n_units, n_units),\n",
    "            l4=F.Linear(n_units, 1),\n",
    "        )\n",
    "    \n",
    "    def __call__(self, x, t):\n",
    "        h = self.forward(x)\n",
    "        return F.sigmoid_cross_entropy(h, t), self.get_accuracy(h, t)\n",
    "    \n",
    "    def forward(self, x):\n",
    "        h = F.relu(self.l1(x))\n",
    "        h = F.relu(self.l2(h))\n",
    "        h = F.relu(self.l3(h))\n",
    "        h = self.l4(h)\n",
    "        return h\n",
    "    \n",
    "    def get_accuracy(self, y_pred, y):\n",
    "        y_pred = F.sigmoid(y_pred)\n",
    "        y_pred = [[0] if i < 0.5 else [1] for i in y_pred.data]\n",
    "        y      = np.array(y.data).reshape(-1,)\n",
    "        y_pred = np.array(y_pred).reshape(-1,)\n",
    "        return 1 - np.mean((y ^ y_pred))"
   ]
  },
  {
   "cell_type": "code",
   "execution_count": 51,
   "metadata": {
    "collapsed": false,
    "scrolled": false
   },
   "outputs": [],
   "source": [
    "def run_dnn(n_in, n_units, n_epoch):\n",
    "    \n",
    "    model_save_path = './model'\n",
    "    if os.path.exists(model_save_path) == False:\n",
    "        os.makedirs(model_save_path)\n",
    "    \n",
    "    PRINT('****** create model ******')\n",
    "    model = Model(n_in, n_units)\n",
    "    PRINT('model :', model)\n",
    "\n",
    "    PRINT('****** set optimizer ******')\n",
    "    optimizer = optimizers.Adam()\n",
    "    optimizer.setup(model)\n",
    "    PRINT('optimizer :', optimizer)\n",
    "\n",
    "    PRINT('****** start train ******')\n",
    "    batchsize_train = 8\n",
    "    batchsize_test = 8\n",
    "\n",
    "    N_train = len(x_train_std)\n",
    "    N_test =  len(x_eval_std)\n",
    "\n",
    "    y_train_ = []\n",
    "    for y in y_train:\n",
    "        y_train_.append([y])\n",
    "\n",
    "    y_eval_ = []\n",
    "    for y in y_eval:\n",
    "        y_eval_.append([y])\n",
    "\n",
    "    train_loss_list = []\n",
    "    eval_loss_list = []\n",
    "    train_acc_list = []\n",
    "    eval_acc_list = []\n",
    "    best_acc   = 0\n",
    "    best_epoch = 0\n",
    "    \n",
    "    for epoch in six.moves.range(0, n_epoch):\n",
    "        # train\n",
    "        if epoch % 50 == 0:\n",
    "            PRINT('epoch :{}'.format(epoch))\n",
    "        start = time.time()\n",
    "        perm_train = np.random.permutation(N_train)\n",
    "        for i in six.moves.range(0, N_train, batchsize_train):\n",
    "            x_batch = Variable(np.asarray(x_train_std[i:i + batchsize_train]).astype(np.float32))\n",
    "            y_batch = Variable(np.asarray(y_train_[i:i + batchsize_train]).astype(np.int32))\n",
    "            model.zerograds()\n",
    "            loss, acc = model(x_batch, y_batch)\n",
    "            loss.backward()\n",
    "            optimizer.update()\n",
    "\n",
    "        end = time.time()\n",
    "        elapsed_time = end - start\n",
    "        throughput = N_train / elapsed_time\n",
    "\n",
    "        #train_data evaluation\n",
    "        train_sum_acc = 0\n",
    "        train_sum_loss = 0\n",
    "\n",
    "        for i in six.moves.range(0, N_train, batchsize_train):\n",
    "            x = Variable(np.asarray(x_train_std[i:i + batchsize_train]).astype(np.float32))\n",
    "            y = Variable(np.asarray(y_train_[i:i + batchsize_train]).astype(np.int32))\n",
    "            loss, acc = model(x, y)\n",
    "            train_sum_loss += float(loss.data) * len(y.data)\n",
    "            train_sum_acc += acc * len(y.data)\n",
    "        train_loss_list.append(train_sum_loss/N_train)\n",
    "        train_acc_list.append(train_sum_acc/N_train)\n",
    "\n",
    "        eval_sum_acc = 0\n",
    "        eval_sum_loss = 0\n",
    "\n",
    "        #eval_data evaluation\n",
    "        for i in six.moves.range(0, N_test, batchsize_test):\n",
    "            x = Variable(np.asarray(x_eval_std[i:i + batchsize_test]).astype(np.float32))\n",
    "            y = Variable(np.asarray(y_eval_[i:i + batchsize_test]).astype(np.int32))\n",
    "            loss, acc = model(x, y)\n",
    "            eval_sum_loss += float(loss.data) * len(y.data)\n",
    "            eval_sum_acc += acc * len(y.data)\n",
    "\n",
    "        eval_loss_list.append(eval_sum_loss/N_test)\n",
    "        eval_acc_list.append(eval_sum_acc/N_test)\n",
    "        \n",
    "        if best_acc != np.array(eval_acc_list).max(): \n",
    "            best_acc = np.array(eval_acc_list).max()\n",
    "            model_name = 'model_acc-{}_nin-{}_nunits-{}_nepoch-{}_epoch-{}.npz'.format(best_acc, n_in, n_units, n_epoch, epoch)\n",
    "            serializers.save_npz(os.path.join(model_save_path, model_name), model)            \n",
    "        n_in, n_units, n_epoch\n",
    "        \n",
    "\n",
    "    PRINT('Done')\n",
    "    plt.title('Loss : {0:3.5f}'.format(np.array(eval_loss_list).min()))\n",
    "    plt.plot(train_loss_list, 'r', label = 'train_data')\n",
    "    plt.plot(eval_loss_list,  'b', label = 'eval_data')\n",
    "    plt.xlabel('epoch')\n",
    "    plt.ylim([0,1])\n",
    "    plt.show()\n",
    "\n",
    "    plt.title('Acc : {0:3.5f}'.format(np.array(eval_acc_list).max()))\n",
    "    plt.plot(train_acc_list, 'r', label = 'train_data')\n",
    "    plt.plot(eval_acc_list,  'b', label = 'eval_data')\n",
    "    plt.xlabel('epoch')\n",
    "    plt.ylim([0.75, 1.00])\n",
    "    plt.show()"
   ]
  },
  {
   "cell_type": "code",
   "execution_count": 52,
   "metadata": {
    "collapsed": false,
    "scrolled": false
   },
   "outputs": [
    {
     "name": "stdout",
     "output_type": "stream",
     "text": [
      "****** create model ******\n",
      "model : <__main__.Model object at 0x0000000009301940>\n",
      "****** set optimizer ******\n",
      "optimizer : <chainer.optimizers.adam.Adam object at 0x0000000009301588>\n",
      "****** start train ******\n",
      "epoch :0\n",
      "epoch :50\n",
      "epoch :100\n",
      "epoch :150\n",
      "Done\n"
     ]
    },
    {
     "data": {
      "image/png": "[encoded data removed]",
      "text/plain": [
       "<matplotlib.figure.Figure at 0xa4480b8>"
      ]
     },
     "metadata": {},
     "output_type": "display_data"
    },
    {
     "data": {
      "image/png": "[encoded data removed]",
      "text/plain": [
       "<matplotlib.figure.Figure at 0xa4f9a20>"
      ]
     },
     "metadata": {},
     "output_type": "display_data"
    }
   ],
   "source": [
    "run_dnn(n_in=5, n_units=128, n_epoch=200)"
   ]
  },
  {
   "cell_type": "code",
   "execution_count": 53,
   "metadata": {
    "collapsed": false
   },
   "outputs": [
    {
     "name": "stdout",
     "output_type": "stream",
     "text": [
      "****** create model ******\n",
      "model : <__main__.Model object at 0x000000000A442668>\n",
      "****** set optimizer ******\n",
      "optimizer : <chainer.optimizers.adam.Adam object at 0x00000000093011D0>\n",
      "****** start train ******\n",
      "epoch :0\n",
      "epoch :50\n",
      "epoch :100\n",
      "epoch :150\n",
      "Done\n"
     ]
    },
    {
     "data": {
      "image/png": "[encoded data removed]",
      "text/plain": [
       "<matplotlib.figure.Figure at 0x8ef48d0>"
      ]
     },
     "metadata": {},
     "output_type": "display_data"
    },
    {
     "data": {
      "image/png": "[encoded data removed]",
      "text/plain": [
       "<matplotlib.figure.Figure at 0x8f3d358>"
      ]
     },
     "metadata": {},
     "output_type": "display_data"
    }
   ],
   "source": [
    "run_dnn(n_in=5, n_units=64, n_epoch=200)"
   ]
  },
  {
   "cell_type": "code",
   "execution_count": 54,
   "metadata": {
    "collapsed": false
   },
   "outputs": [
    {
     "name": "stdout",
     "output_type": "stream",
     "text": [
      "****** create model ******\n",
      "model : <__main__.Model object at 0x0000000008EF59E8>\n",
      "****** set optimizer ******\n",
      "optimizer : <chainer.optimizers.adam.Adam object at 0x0000000008EF4630>\n",
      "****** start train ******\n",
      "epoch :0\n",
      "epoch :50\n",
      "epoch :100\n",
      "epoch :150\n",
      "Done\n"
     ]
    },
    {
     "data": {
      "image/png": "[encoded data removed]",
      "text/plain": [
       "<matplotlib.figure.Figure at 0x8fa4e80>"
      ]
     },
     "metadata": {},
     "output_type": "display_data"
    },
    {
     "data": {
      "image/png": "[encoded data removed]",
      "text/plain": [
       "<matplotlib.figure.Figure at 0x8fb9e10>"
      ]
     },
     "metadata": {},
     "output_type": "display_data"
    }
   ],
   "source": [
    "run_dnn(n_in=5, n_units=32, n_epoch=200)"
   ]
  },
  {
   "cell_type": "code",
   "execution_count": 55,
   "metadata": {
    "collapsed": false
   },
   "outputs": [
    {
     "name": "stdout",
     "output_type": "stream",
     "text": [
      "****** create model ******\n",
      "model : <__main__.Model object at 0x0000000008FA5E80>\n",
      "****** set optimizer ******\n",
      "optimizer : <chainer.optimizers.adam.Adam object at 0x0000000008FA3E48>\n",
      "****** start train ******\n",
      "epoch :0\n",
      "epoch :50\n",
      "epoch :100\n",
      "epoch :150\n",
      "Done\n"
     ]
    },
    {
     "data": {
      "image/png": "[encoded data removed]",
      "text/plain": [
       "<matplotlib.figure.Figure at 0x906acf8>"
      ]
     },
     "metadata": {},
     "output_type": "display_data"
    },
    {
     "data": {
      "image/png": "[encoded data removed]",
      "text/plain": [
       "<matplotlib.figure.Figure at 0x8faa940>"
      ]
     },
     "metadata": {},
     "output_type": "display_data"
    }
   ],
   "source": [
    "run_dnn(n_in=5, n_units=16, n_epoch=200)"
   ]
  },
  {
   "cell_type": "code",
   "execution_count": 56,
   "metadata": {
    "collapsed": false
   },
   "outputs": [
    {
     "name": "stdout",
     "output_type": "stream",
     "text": [
      "****** create model ******\n",
      "model : <__main__.Model object at 0x000000000906B048>\n",
      "****** set optimizer ******\n",
      "optimizer : <chainer.optimizers.adam.Adam object at 0x0000000008FA3F98>\n",
      "****** start train ******\n",
      "epoch :0\n",
      "epoch :50\n",
      "epoch :100\n",
      "epoch :150\n",
      "Done\n"
     ]
    },
    {
     "data": {
      "image/png": "[encoded data removed]",
      "text/plain": [
       "<matplotlib.figure.Figure at 0x8feaf98>"
      ]
     },
     "metadata": {},
     "output_type": "display_data"
    },
    {
     "data": {
      "image/png": "[encoded data removed]",
      "text/plain": [
       "<matplotlib.figure.Figure at 0x90b8f60>"
      ]
     },
     "metadata": {},
     "output_type": "display_data"
    }
   ],
   "source": [
    "run_dnn(n_in=5, n_units=8, n_epoch=200)"
   ]
  },
  {
   "cell_type": "markdown",
   "metadata": {},
   "source": [
    "メモ:次のエラー時の対処  \n",
    "InvalidType:   \n",
    "Invalid operation is performed in: SoftmaxCrossEntropy (Forward  \n",
    "Expect: in_types[1].ndim == in_types[0].ndim - 1  \n",
    "Actual: 2 != 1  \n",
    "対処法は、ソフトマックス交差エントロピーはint32型のnumarrayへ変更"
   ]
  },
  {
   "cell_type": "code",
   "execution_count": 57,
   "metadata": {
    "collapsed": false
   },
   "outputs": [
    {
     "name": "stdout",
     "output_type": "stream",
     "text": [
      "predict : [0, 0, 0, 1, 1, 0, 1, 1]\n",
      "real    : [0, 0, 0, 1, 1, 1, 1, 1]\n",
      "------------------------------------\n",
      "predict : [1, 1, 0, 1, 0, 1, 1, 1]\n",
      "real    : [1, 1, 0, 1, 0, 1, 1, 0]\n",
      "------------------------------------\n",
      "predict : [0, 0, 0, 1, 0, 1, 0, 0]\n",
      "real    : [0, 0, 0, 1, 0, 1, 0, 0]\n",
      "------------------------------------\n",
      "predict : [1, 1, 0, 1, 1, 0, 0, 0]\n",
      "real    : [0, 1, 0, 1, 1, 0, 0, 1]\n",
      "------------------------------------\n",
      "predict : [0, 0, 0, 1, 0, 0, 0, 0]\n",
      "real    : [0, 1, 0, 1, 0, 0, 0, 0]\n",
      "------------------------------------\n",
      "predict : [0, 0, 0, 0, 1, 0, 0, 1]\n",
      "real    : [1, 0, 0, 0, 1, 0, 0, 1]\n",
      "------------------------------------\n",
      "predict : [0, 0, 0, 1, 1, 0, 0, 0]\n",
      "real    : [0, 0, 1, 1, 1, 0, 1, 0]\n",
      "------------------------------------\n",
      "predict : [0, 0, 0, 0, 0, 0, 1, 1]\n",
      "real    : [0, 0, 0, 1, 0, 0, 1, 0]\n",
      "------------------------------------\n",
      "predict : [0, 0, 1, 0, 1, 1, 1, 1]\n",
      "real    : [1, 0, 1, 0, 1, 1, 1, 1]\n",
      "------------------------------------\n",
      "predict : [1, 0, 0, 1, 0, 1, 0, 0]\n",
      "real    : [0, 0, 0, 1, 0, 0, 0, 0]\n",
      "------------------------------------\n",
      "predict : [0, 0, 1, 0, 0, 1, 1, 1]\n",
      "real    : [0, 1, 0, 0, 0, 1, 1, 1]\n",
      "------------------------------------\n",
      "predict : [1, 1, 0, 0, 1, 1, 0, 0]\n",
      "real    : [1, 0, 0, 0, 1, 1, 0, 0]\n",
      "------------------------------------\n",
      "predict : [1, 0, 0, 1, 0, 0, 0, 0]\n",
      "real    : [1, 0, 0, 1, 0, 0, 0, 0]\n",
      "------------------------------------\n",
      "predict : [1, 1, 1, 0, 0, 1, 0, 1]\n",
      "real    : [0, 1, 1, 0, 0, 1, 0, 1]\n",
      "------------------------------------\n",
      "predict : [0, 1, 0, 1, 0, 1, 0, 1]\n",
      "real    : [1, 0, 1, 1, 1, 1, 0, 1]\n",
      "------------------------------------\n",
      "predict : [0, 0, 0, 0, 0, 0, 0, 0]\n",
      "real    : [1, 0, 0, 0, 0, 0, 0, 1]\n",
      "------------------------------------\n",
      "predict : [0, 0, 1, 0, 0, 1, 0, 0]\n",
      "real    : [0, 0, 0, 0, 0, 0, 0, 0]\n",
      "------------------------------------\n",
      "predict : [0, 1, 0, 0, 0, 1, 0, 1]\n",
      "real    : [0, 0, 0, 0, 0, 1, 0, 0]\n",
      "------------------------------------\n",
      "predict : [1, 1, 0, 1, 1, 0, 1, 0]\n",
      "real    : [1, 0, 0, 1, 1, 0, 0, 1]\n",
      "------------------------------------\n",
      "predict : [1, 0, 1, 0, 1, 0, 1, 1]\n",
      "real    : [0, 0, 1, 0, 0, 1, 0, 1]\n",
      "------------------------------------\n",
      "predict : [0, 0, 1, 1, 0, 0, 0, 0]\n",
      "real    : [0, 1, 1, 1, 0, 0, 0, 0]\n",
      "------------------------------------\n",
      "predict : [0, 0, 0, 1, 0, 0, 1, 0]\n",
      "real    : [0, 0, 0, 1, 0, 0, 1, 0]\n",
      "------------------------------------\n",
      "predict : [1, 0, 0, 1, 0, 0, 0, 0]\n",
      "real    : [1, 0, 0, 0, 0, 0, 0, 0]\n",
      "------------------------------------\n",
      "predict : [1, 0, 1, 0, 0, 1, 1, 1]\n",
      "real    : [0, 0, 1, 0, 0, 1, 0, 0]\n",
      "------------------------------------\n",
      "predict : [1, 1, 0, 0, 0, 1, 1, 0]\n",
      "real    : [1, 1, 0, 0, 0, 1, 1, 0]\n",
      "------------------------------------\n",
      "predict : [0, 1, 0, 1, 0, 0, 1, 0]\n",
      "real    : [1, 0, 0, 1, 1, 0, 0, 0]\n",
      "------------------------------------\n",
      "predict : [1, 0, 0, 1, 0, 1, 0, 0]\n",
      "real    : [1, 0, 0, 1, 0, 0, 0, 0]\n",
      "------------------------------------\n",
      "predict : [0, 0, 0, 1, 0, 1, 1, 0]\n",
      "real    : [0, 1, 0, 1, 0, 1, 1, 0]\n",
      "------------------------------------\n",
      "predict : [0, 0, 0, 1, 0, 0, 0, 1]\n",
      "real    : [1, 0, 0, 1, 1, 0, 0, 1]\n",
      "------------------------------------\n",
      "predict : [1, 1, 0, 0, 1, 1, 1, 0]\n",
      "real    : [1, 0, 0, 0, 1, 1, 1, 0]\n",
      "------------------------------------\n",
      "predict : [0, 1, 0, 0, 1, 1, 1, 0]\n",
      "real    : [0, 1, 0, 0, 1, 1, 0, 0]\n",
      "------------------------------------\n",
      "predict : [0, 0, 0, 0, 1, 0, 0, 0]\n",
      "real    : [0, 1, 0, 0, 0, 0, 0, 0]\n",
      "------------------------------------\n",
      "predict : [1, 0, 0, 0, 0, 0, 0, 1]\n",
      "real    : [1, 1, 1, 0, 0, 0, 0, 0]\n",
      "------------------------------------\n",
      "predict : [0, 0, 1, 0, 0, 1, 0, 0]\n",
      "real    : [0, 0, 1, 0, 1, 1, 0, 0]\n",
      "------------------------------------\n",
      "predict : [1, 1, 1, 0, 0, 0, 1, 1]\n",
      "real    : [0, 1, 0, 0, 0, 1, 1, 0]\n",
      "------------------------------------\n",
      "predict : [0, 1, 0, 1, 0, 0, 0, 0]\n",
      "real    : [0, 1, 0, 1, 0, 0, 0, 0]\n",
      "------------------------------------\n",
      "predict : [0, 0, 0, 0, 1, 1, 1, 0]\n",
      "real    : [0, 0, 1, 0, 1, 1, 1, 0]\n",
      "------------------------------------\n",
      "predict : [0, 0, 1, 0, 1, 0, 0, 1]\n",
      "real    : [0, 0, 1, 0, 1, 0, 0, 1]\n",
      "------------------------------------\n",
      "predict : [1, 1, 0, 0, 0, 0, 0, 0]\n",
      "real    : [1, 1, 0, 0, 1, 0, 1, 0]\n",
      "------------------------------------\n",
      "predict : [1, 0, 0, 1, 1, 0, 0, 0]\n",
      "real    : [0, 0, 0, 1, 0, 1, 0, 1]\n",
      "------------------------------------\n",
      "predict : [0, 1, 1, 1, 1, 0, 0, 0]\n",
      "real    : [0, 1, 1, 1, 0, 0, 0, 0]\n",
      "------------------------------------\n",
      "predict : [0, 0, 1, 0, 0, 0, 0, 0]\n",
      "real    : [0, 0, 1, 0, 1, 0, 0, 0]\n",
      "------------------------------------\n",
      "predict : [0, 0, 1, 0, 0, 0, 0, 0]\n",
      "real    : [1, 0, 1, 0, 0, 0, 1, 0]\n",
      "------------------------------------\n",
      "predict : [1, 1, 1, 0, 0, 0, 1, 1]\n",
      "real    : [1, 1, 1, 0, 0, 0, 1, 1]\n",
      "------------------------------------\n",
      "predict : [0, 0, 1, 0, 1, 0, 0, 0]\n",
      "real    : [0, 0, 1, 0, 1, 0, 0, 0]\n",
      "------------------------------------\n",
      "predict : [0, 1, 1, 1, 1, 1, 1, 0]\n",
      "real    : [0, 1, 1, 1, 0, 1, 0, 1]\n",
      "------------------------------------\n",
      "predict : [0, 1, 0, 0, 1, 1, 0, 0]\n",
      "real    : [0, 1, 0, 0, 1, 0, 0, 0]\n",
      "------------------------------------\n",
      "predict : [0, 0, 1, 0, 1, 0, 1, 0]\n",
      "real    : [0, 0, 1, 0, 1, 0, 1, 0]\n",
      "------------------------------------\n",
      "predict : [0, 0, 0, 0, 1, 0, 0, 1]\n",
      "real    : [0, 0, 0, 0, 1, 0, 0, 1]\n",
      "------------------------------------\n",
      "predict : [1, 0, 0, 0, 1, 0, 1, 0]\n",
      "real    : [0, 0, 0, 1, 0, 0, 1, 0]\n",
      "------------------------------------\n",
      "predict : [0, 1, 0, 1, 0, 0, 1, 1]\n",
      "real    : [0, 1, 0, 1, 0, 0, 0, 0]\n",
      "------------------------------------\n",
      "predict : [0, 0, 0, 0, 1, 0, 0, 0]\n",
      "real    : [1, 0, 0, 0, 1, 0, 0, 0]\n",
      "------------------------------------\n",
      "predict : [0, 0, 0, 0, 0, 0, 1, 0]\n",
      "real    : [0, 0, 0, 0, 0, 0, 1, 1]\n",
      "------------------------------------\n",
      "predict : [0, 1, 0, 1, 0, 0, 0, 0]\n",
      "real    : [0, 0, 0, 1, 0, 0, 0, 0]\n",
      "------------------------------------\n",
      "predict : [1, 1, 1, 0, 0, 1, 1, 0]\n",
      "real    : [1, 1, 0, 1, 0, 1, 0, 0]\n",
      "------------------------------------\n",
      "predict : [0, 1, 1, 1, 0, 0, 0, 0]\n",
      "real    : [0, 1, 1, 0, 0, 0, 0, 0]\n",
      "------------------------------------\n",
      "predict : [0, 0, 1, 0, 1, 1, 0, 0]\n",
      "real    : [0, 1, 0, 0, 1, 1, 0, 0]\n",
      "------------------------------------\n",
      "predict : [0, 1, 0, 1, 0, 0, 1, 0]\n",
      "real    : [0, 1, 0, 1, 0, 0, 1, 0]\n",
      "------------------------------------\n",
      "predict : [1, 1, 1, 0, 0, 1, 1, 1]\n",
      "real    : [0, 1, 1, 0, 0, 1, 1, 1]\n",
      "------------------------------------\n",
      "predict : [0, 1, 0, 0, 1, 0, 0, 0]\n",
      "real    : [0, 1, 0, 0, 1, 0, 0, 0]\n",
      "------------------------------------\n",
      "predict : [0, 0, 1, 1, 0, 0, 1, 0]\n",
      "real    : [0, 0, 1, 0, 0, 0, 1, 0]\n",
      "------------------------------------\n",
      "predict : [1, 1, 1, 0, 1, 1, 1, 0]\n",
      "real    : [0, 1, 1, 0, 0, 0, 0, 0]\n",
      "------------------------------------\n",
      "predict : [0, 1, 0, 0, 1, 1, 0, 1]\n",
      "real    : [0, 1, 0, 0, 0, 0, 0, 1]\n",
      "------------------------------------\n",
      "predict : [1, 0, 0, 1, 0, 0, 0, 0]\n",
      "real    : [0, 0, 0, 1, 0, 1, 0, 0]\n",
      "------------------------------------\n",
      "predict : [0, 0, 1, 0, 0, 1, 0, 1]\n",
      "real    : [1, 0, 1, 0, 1, 0, 0, 0]\n",
      "------------------------------------\n",
      "predict : [1, 0, 1, 1, 0, 0, 0, 0]\n",
      "real    : [1, 1, 1, 1, 0, 0, 0, 0]\n",
      "------------------------------------\n",
      "predict : [1, 0, 0, 1, 0, 1, 0, 0]\n",
      "real    : [0, 0, 0, 1, 1, 1, 0, 0]\n",
      "------------------------------------\n",
      "predict : [1, 1, 0, 1, 1, 1, 0, 0]\n",
      "real    : [0, 1, 0, 1, 1, 1, 0, 0]\n",
      "------------------------------------\n",
      "predict : [1, 0, 1, 0, 0, 0, 1, 0]\n",
      "real    : [0, 0, 1, 1, 0, 0, 1, 0]\n",
      "------------------------------------\n",
      "predict : [1, 1, 0, 0, 0, 0, 1, 1]\n",
      "real    : [1, 1, 0, 0, 0, 0, 1, 1]\n",
      "------------------------------------\n",
      "predict : [0, 1, 0, 1, 0, 1, 0, 0]\n",
      "real    : [0, 1, 0, 1, 0, 1, 0, 0]\n",
      "------------------------------------\n",
      "predict : [0, 1, 1, 0, 0, 1, 0, 0]\n",
      "real    : [0, 1, 0, 0, 0, 1, 0, 0]\n",
      "------------------------------------\n",
      "predict : [0, 0, 0, 0, 1, 0, 0, 0]\n",
      "real    : [0, 0, 0, 1, 1, 0, 0, 0]\n",
      "------------------------------------\n",
      "predict : [0, 0, 1, 0, 1, 0, 1, 0]\n",
      "real    : [0, 1, 1, 0, 0, 0, 1, 0]\n",
      "------------------------------------\n",
      "predict : [0, 0, 1, 1, 0, 1, 1, 0]\n",
      "real    : [0, 0, 1, 1, 0, 0, 1, 0]\n",
      "------------------------------------\n",
      "predict : [0, 0, 0, 1, 0, 0, 0, 1]\n",
      "real    : [0, 0, 0, 0, 0, 1, 1, 1]\n",
      "------------------------------------\n",
      "predict : [1, 1, 1, 1, 1, 1, 0, 0]\n",
      "real    : [1, 1, 1, 1, 1, 0, 0, 0]\n",
      "------------------------------------\n",
      "predict : [0, 1, 0, 0, 0, 1, 0, 1]\n",
      "real    : [1, 1, 0, 0, 1, 1, 0, 0]\n",
      "------------------------------------\n",
      "predict : [0, 0, 0, 0, 0, 1, 1, 1]\n",
      "real    : [0, 0, 0, 0, 0, 1, 1, 1]\n",
      "------------------------------------\n",
      "predict : [0, 0, 0, 0, 1, 1, 0, 1]\n",
      "real    : [0, 0, 0, 0, 1, 1, 0, 0]\n",
      "------------------------------------\n",
      "predict : [0, 1, 0, 1, 0, 1, 0, 1]\n",
      "real    : [0, 1, 0, 1, 0, 1, 0, 1]\n",
      "------------------------------------\n",
      "predict : [1, 1, 1, 0, 1, 0, 0, 0]\n",
      "real    : [1, 1, 1, 0, 0, 1, 0, 1]\n",
      "------------------------------------\n",
      "predict : [1, 0, 1, 0, 0, 0, 0, 1]\n",
      "real    : [0, 0, 1, 1, 1, 0, 0, 0]\n",
      "------------------------------------\n",
      "predict : [1, 0, 0, 1, 1, 0, 0, 0]\n",
      "real    : [1, 0, 0, 1, 0, 0, 0, 0]\n",
      "------------------------------------\n",
      "predict : [0, 0, 0, 0, 1, 1, 0, 0]\n",
      "real    : [0, 0, 0, 0, 0, 0, 0, 0]\n",
      "------------------------------------\n",
      "predict : [0, 0, 0, 1, 1, 0, 0, 1]\n",
      "real    : [0, 0, 0, 1, 1, 0, 0, 0]\n",
      "------------------------------------\n",
      "predict : [1, 0, 0, 0, 1, 1, 1, 0]\n",
      "real    : [1, 1, 0, 0, 1, 1, 1, 0]\n",
      "------------------------------------\n",
      "predict : [0, 0, 1, 0, 0, 0, 0, 0]\n",
      "real    : [0, 0, 1, 0, 0, 1, 0, 1]\n",
      "------------------------------------\n",
      "predict : [0, 1, 0, 0, 0, 0, 0, 0]\n",
      "real    : [0, 1, 0, 0, 1, 0, 0, 0]\n",
      "------------------------------------\n",
      "predict : [0]\n",
      "real    : [0]\n",
      "------------------------------------\n"
     ]
    }
   ],
   "source": [
    "y_eval_pred = []\n",
    "y_eval_ = [[y] for y in y_eval]\n",
    "\n",
    "batchsize_test = 8\n",
    "model = Model(n_in=5, n_units=128)\n",
    "#submission scored 0.74641\n",
    "model_save_path = './model'\n",
    "model_name = 'model_acc-0.8092566619915849_nin-5_nunits-128_nepoch-256_epoch-41.npz'\n",
    "serializers.load_npz(os.path.join(model_save_path, model_name), model)\n",
    "\n",
    "for i in six.moves.range(0, len(x_eval_std), batchsize_test):\n",
    "    x = Variable(np.asarray(x_eval_std[i:i + batchsize_test]).astype(np.float32))\n",
    "    y = Variable(np.asarray(y_eval_[i:i + batchsize_test]).astype(np.int32))\n",
    "    t = F.sigmoid(model.forward(x))\n",
    "    y_eval_pred.extend([[0] if i < 0.5 else [1] for i in t.data])\n",
    "    PRINT('predict :',[0 if i < 0.5 else 1 for i in t.data])\n",
    "    PRINT('real    :',[0 if i < 0.5 else 1 for i in y.data])\n",
    "    PRINT('------------------------------------')\n"
   ]
  },
  {
   "cell_type": "code",
   "execution_count": 58,
   "metadata": {
    "collapsed": false
   },
   "outputs": [
    {
     "name": "stdout",
     "output_type": "stream",
     "text": [
      "[y_eval] accuracy =  80.92567 %\n",
      "[y_eval] std      =  0.4363\n"
     ]
    }
   ],
   "source": [
    "y_eval_     = np.array(y_eval_).reshape(-1,)\n",
    "y_eval_pred = np.array(y_eval_pred).reshape(-1,)\n",
    "PRINT('[y_eval] accuracy = ', round((1 - np.mean((y_eval_ ^ y_eval_pred))) * 100, 5), '%')\n",
    "PRINT('[y_eval] std      = ', round(np.std(y_eval_ - y_eval_pred), 5))"
   ]
  },
  {
   "cell_type": "code",
   "execution_count": 59,
   "metadata": {
    "collapsed": false
   },
   "outputs": [
    {
     "name": "stdout",
     "output_type": "stream",
     "text": [
      "              precision    recall  f1-score   support\n",
      "\n",
      "not Survived       0.86      0.83      0.85       452\n",
      "    Survived       0.73      0.77      0.75       261\n",
      "\n",
      " avg / total       0.81      0.81      0.81       713\n",
      "\n"
     ]
    }
   ],
   "source": [
    "print(classification_report(y_eval_, y_eval_pred, target_names=[\"not Survived\", \"Survived\"]))"
   ]
  },
  {
   "cell_type": "code",
   "execution_count": 60,
   "metadata": {
    "collapsed": false
   },
   "outputs": [],
   "source": [
    "y_test_pred = []\n",
    "x = Variable(np.asarray(x_test_std).astype(np.float32))\n",
    "t = F.sigmoid(model.forward(x))\n",
    "y_test_pred.extend([[0] if i < 0.5 else [1] for i in t.data])\n",
    "y_test_pred = np.array(y_test_pred).reshape(-1,)"
   ]
  },
  {
   "cell_type": "markdown",
   "metadata": {},
   "source": [
    "#4) 予測データ出力 (for submiting)"
   ]
  },
  {
   "cell_type": "code",
   "execution_count": 61,
   "metadata": {
    "collapsed": false
   },
   "outputs": [
    {
     "data": {
      "text/plain": [
       "array([0, 1, 0, 0, 0, 0, 0, 0, 1, 0, 0, 1, 1, 0, 1, 1, 0, 0, 1, 1, 0, 1, 1,\n",
       "       1, 1, 0, 1, 0, 1, 0, 0, 0, 1, 1, 1, 0, 1, 1, 0, 0, 0, 0, 0, 1, 1, 0,\n",
       "       1, 0, 1, 1, 1, 0, 1, 1, 0, 0, 0, 0, 0, 1, 0, 0, 0, 1, 1, 1, 1, 0, 0,\n",
       "       1, 1, 0, 0, 0, 1, 0, 0, 1, 0, 1, 1, 0, 0, 0, 0, 0, 1, 1, 0, 1, 0, 0,\n",
       "       1, 0, 0, 0, 1, 0, 1, 0, 1, 0, 0, 0, 0, 0, 0, 0, 0, 0, 0, 1, 1, 1, 1,\n",
       "       0, 0, 1, 1, 1, 1, 0, 1, 0, 0, 1, 0, 1, 0, 0, 0, 1, 0, 0, 0, 0, 0, 0,\n",
       "       1, 0, 0, 1, 0, 0, 1, 0, 0, 0, 0, 0, 1, 0, 0, 1, 0, 0, 1, 1, 1, 0, 1,\n",
       "       1, 1, 0, 0, 0, 0, 0, 1, 1, 0, 0, 0, 0, 0, 1, 1, 0, 1, 1, 0, 1, 1, 0,\n",
       "       1, 0, 1, 0, 0, 0, 0, 0, 0, 0, 1, 0, 1, 1, 0, 1, 1, 1, 1, 1, 0, 0, 0,\n",
       "       0, 1, 0, 0, 0, 0, 1, 0, 1, 1, 0, 1, 0, 1, 0, 1, 0, 1, 1, 0, 1, 0, 0,\n",
       "       0, 1, 0, 0, 1, 0, 0, 0, 1, 1, 1, 1, 1, 0, 0, 1, 1, 0, 1, 1, 1, 0, 1,\n",
       "       0, 0, 0, 0, 0, 1, 0, 0, 0, 1, 1, 0, 0, 0, 0, 1, 0, 1, 0, 1, 1, 0, 1,\n",
       "       0, 0, 0, 0, 1, 1, 1, 1, 1, 0, 0, 1, 0, 0, 0, 0, 0, 1, 0, 0, 1, 0, 0,\n",
       "       0, 0, 0, 0, 0, 1, 1, 0, 1, 0, 1, 0, 0, 0, 0, 1, 1, 0, 0, 0, 0, 0, 0,\n",
       "       0, 0, 1, 0, 1, 1, 0, 0, 1, 1, 0, 0, 0, 0, 0, 0, 0, 1, 0, 0, 0, 1, 1,\n",
       "       1, 0, 1, 0, 1, 1, 0, 0, 0, 1, 0, 1, 0, 0, 1, 0, 1, 1, 0, 1, 0, 0, 1,\n",
       "       1, 0, 0, 1, 0, 0, 1, 0, 1, 0, 0, 0, 0, 0, 1, 0, 0, 1, 0, 0, 0, 0, 0,\n",
       "       1, 0, 0, 0, 1, 0, 1, 0, 0, 1, 0, 1, 1, 1, 0, 0, 0, 1, 1, 1, 1, 0, 0,\n",
       "       1, 0, 0, 1])"
      ]
     },
     "execution_count": 61,
     "metadata": {},
     "output_type": "execute_result"
    }
   ],
   "source": [
    "#check\n",
    "y_test_pred"
   ]
  },
  {
   "cell_type": "code",
   "execution_count": 62,
   "metadata": {
    "collapsed": false
   },
   "outputs": [],
   "source": [
    "import datetime\n",
    "import os\n",
    "import shutil\n",
    "\n",
    "now = datetime.datetime.now()\n",
    "date = now.strftime(\"%Y%m%d_%H%M%S\")\n",
    "save_path = '../result/' + date\n",
    "if os.path.exists(save_path) == False:\n",
    "    os.makedirs(save_path)\n",
    "\n",
    "py_file = 'kernel.ipynb'\n",
    "shutil.copyfile(py_file, save_path + \"/\" + py_file)\n",
    "\n",
    "with open(save_path + \"/predict_result_data.csv\", \"w\") as f:\n",
    "    writer = csv.writer(f, lineterminator='\\n')\n",
    "    writer.writerow([\"PassengerId\", \"Survived\"])\n",
    "    for pid, survived in zip(df_test['PassengerId'].astype(int), y_test_pred.astype(int)):\n",
    "        writer.writerow([pid, survived])"
   ]
  }
 ],
 "metadata": {
  "kernelspec": {
   "display_name": "Python 3",
   "language": "python",
   "name": "python3"
  },
  "language_info": {
   "codemirror_mode": {
    "name": "ipython",
    "version": 3
   },
   "file_extension": ".py",
   "mimetype": "text/x-python",
   "name": "python",
   "nbconvert_exporter": "python",
   "pygments_lexer": "ipython3",
   "version": "3.4.3"
  }
 },
 "nbformat": 4,
 "nbformat_minor": 0
}
